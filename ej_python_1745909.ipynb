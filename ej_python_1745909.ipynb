{
  "nbformat": 4,
  "nbformat_minor": 0,
  "metadata": {
    "colab": {
      "name": "tarea1.ipynb",
      "provenance": [],
      "collapsed_sections": [],
      "authorship_tag": "ABX9TyOrt1l7EB2Ga8zpOpULk+R1",
      "include_colab_link": true
    },
    "kernelspec": {
      "name": "python3",
      "display_name": "Python 3"
    },
    "language_info": {
      "name": "python"
    }
  },
  "cells": [
    {
      "cell_type": "markdown",
      "metadata": {
        "id": "view-in-github",
        "colab_type": "text"
      },
      "source": [
        "<a href=\"https://colab.research.google.com/github/hectoresc/MineriaDeDatos/blob/main/ej_python_1745909.ipynb\" target=\"_parent\"><img src=\"https://colab.research.google.com/assets/colab-badge.svg\" alt=\"Open In Colab\"/></a>"
      ]
    },
    {
      "cell_type": "code",
      "metadata": {
        "id": "gusDeX5oAGTO"
      },
      "source": [
        ""
      ],
      "execution_count": null,
      "outputs": []
    },
    {
      "cell_type": "markdown",
      "metadata": {
        "id": "Zgof3auVA7_z"
      },
      "source": [
        "·Tarea 1\n",
        "··Ejercicios google colab  "
      ]
    },
    {
      "cell_type": "markdown",
      "metadata": {
        "id": "5pCAtjakKsQ6"
      },
      "source": [
        "Ejercicio1"
      ]
    },
    {
      "cell_type": "code",
      "metadata": {
        "colab": {
          "base_uri": "https://localhost:8080/"
        },
        "id": "9DYjytF6BKrg",
        "outputId": "71e38d6c-db35-44e4-bd3e-6c58ae4a6e33"
      },
      "source": [
        "mat = int(input(\"Introduce tu matricula:\" ))\n",
        "nombre= (input(\"Introduce tu nombre : \"))\n",
        "\n",
        "print (\"\", mat,nombre )\n",
        "\n"
      ],
      "execution_count": null,
      "outputs": [
        {
          "output_type": "stream",
          "text": [
            "Introduce tu matricula:1745909\n"
          ],
          "name": "stdout"
        }
      ]
    },
    {
      "cell_type": "markdown",
      "metadata": {
        "id": "OwocZRtPwhbP"
      },
      "source": [
        "·Ejercicio 2\n",
        "····Pidiendo el input del usuario pide dos números y crea una pequeña calculadora con los operadores básicos de suma, resta, multiplicación, división, y exponente.\n"
      ]
    },
    {
      "cell_type": "code",
      "metadata": {
        "id": "WIaoPtLXwkTW"
      },
      "source": [
        "print(\"Ingrese un numero\")\n",
        "n1=float(input())\n",
        "print(\"Ingrese otro segundo numero\")\n",
        "n2=float(input())\n",
        "suma=n1+n2\n",
        "resta=n1-n2\n",
        "div=n1/n2\n",
        "mult=n1*n2\n",
        "exp=n1**n2\n",
        "print(\"La suma de los numeros\", n1 ,\"y\",n2, \"es \", suma)\n",
        "print(\"La resta de los numeros\",n1 ,\"y\", n2, \"es:\", resta)\n",
        "print(\"La multiplicacion de los numeros\", n1 ,\"y\",n2, \"es :\" , mult)\n",
        "print(\"La division de los numeros\", n1 ,\"entre\",n2, \"es: \", div)\n",
        "print(\"El exponente del numero \",n1, \"elevada al numero \",n1, \"es: \", exp )\n",
        "\n",
        "\n"
      ],
      "execution_count": null,
      "outputs": []
    },
    {
      "cell_type": "markdown",
      "metadata": {
        "id": "V5MuApVwQKbk"
      },
      "source": [
        "·Ejercicio 3\n",
        "··Con loop while o for, realiza una lista de 10 numeros multiplos de 3, y después realiza una función de loop que sume todos los números dentro del arreglo."
      ]
    },
    {
      "cell_type": "code",
      "metadata": {
        "id": "laZ14OuKQRqc",
        "colab": {
          "base_uri": "https://localhost:8080/"
        },
        "outputId": "387c5e61-7fd9-4200-8b12-032e67d214e0"
      },
      "source": [
        "#EJERCICIO_3\n",
        "aux = 0\n",
        "for i in range(1,31):\n",
        "    s = i%3\n",
        "    if s==0:\n",
        "        print(i)\n",
        "        aux = i + aux\n",
        "\n",
        "print(\"La suma de los múltiplos de 3 es: %d\" %(aux))\n",
        "\n",
        "\n",
        "\n",
        "\n",
        "\n",
        "\n",
        "\n"
      ],
      "execution_count": 1,
      "outputs": [
        {
          "output_type": "stream",
          "text": [
            "3\n",
            "6\n",
            "9\n",
            "12\n",
            "15\n",
            "18\n",
            "21\n",
            "24\n",
            "27\n",
            "30\n",
            "La suma de los múltiplos de 3 es: 165\n"
          ],
          "name": "stdout"
        }
      ]
    },
    {
      "cell_type": "markdown",
      "metadata": {
        "id": "nuZyKZ6qqMVI"
      },
      "source": [
        "·Ejercicio 4\n",
        "··Con una función de if else, revisar si un número es par o es impar.\n",
        "··Con una función de if else, revisar si un número es primo o no.\n"
      ]
    },
    {
      "cell_type": "code",
      "metadata": {
        "colab": {
          "base_uri": "https://localhost:8080/"
        },
        "id": "G7bV57PvqV3-",
        "outputId": "e9bbc321-e770-493f-e081-2824df5cb68f"
      },
      "source": [
        "print(\"Ingrese un numero\")\n",
        "a=float(input())\n",
        "\n",
        "if a%2==0:\n",
        "  print(\"El numero \",a, \"es par\")\n",
        "else:\n",
        "  print(\"El numero \", a ,\"es impar\")\n"
      ],
      "execution_count": 27,
      "outputs": [
        {
          "output_type": "stream",
          "text": [
            "Ingrese un numero\n",
            "7\n",
            "El numero  7.0 es impar\n"
          ],
          "name": "stdout"
        }
      ]
    },
    {
      "cell_type": "markdown",
      "metadata": {
        "id": "pTxArfgvvBjp"
      },
      "source": [
        "·Ejercicio 5(No me salio)\n",
        "··Utilizando diferentes clases en python, crea una calculadora con los operadores básicos de suma, resta, multiplicación, división, y exponente.\n"
      ]
    },
    {
      "cell_type": "code",
      "metadata": {
        "id": "Em1Fqq8KjlPX"
      },
      "source": [
        "print(\"ingrre\")\n",
        "a=float(input())\n",
        "print(\"inhte\")\n",
        "b=float(input())\n",
        "\n",
        "\n",
        "suma=a+b\n",
        "resta=a-b\n",
        "multi=a*b\n",
        "div=a/b\n",
        "e=a**b\n",
        "    \n",
        "\n"
      ],
      "execution_count": null,
      "outputs": []
    },
    {
      "cell_type": "markdown",
      "metadata": {
        "id": "ilW7yzlwmcbn"
      },
      "source": [
        "·Tuplas Crear una variable flotante, integer, boleana y compleja e imprimir el tipo de variable que es.\n",
        "\n",
        "Crear una tupla con valores enteros imprimir el primer y ultimo valor.\n",
        "\n",
        "Añadir 3 valores de string a la tupla.\n",
        "\n",
        "Verificar si una variable existe dentro de la tupla."
      ]
    },
    {
      "cell_type": "code",
      "metadata": {
        "colab": {
          "base_uri": "https://localhost:8080/"
        },
        "id": "9BWBxC6CvNtR",
        "outputId": "c73717b4-8778-4c67-bc61-9a3e7c3c934c"
      },
      "source": [
        "a=float(input())\n",
        "b=int(input())\n",
        "c= 1<23\n",
        "d=complex(input())\n",
        "print(type(a))\n",
        "print(type(b))\n",
        "print(type(d))\n",
        "print(type(c))\n",
        "\n",
        "ent = (40,21,45,36,87)\n",
        "print(ent[0], ent[-1])\n",
        "ent = (40, 'Hola', 21, 45, 'Que', 36, 87, 'Haces')\n",
        "print('Hola' in ent)"
      ],
      "execution_count": 48,
      "outputs": [
        {
          "output_type": "stream",
          "text": [
            "7\n",
            "8\n",
            "5\n",
            "<class 'float'>\n",
            "<class 'int'>\n",
            "<class 'complex'>\n",
            "<class 'bool'>\n",
            "40 87\n",
            "True\n"
          ],
          "name": "stdout"
        }
      ]
    },
    {
      "cell_type": "markdown",
      "metadata": {
        "id": "IipG77sm6Bl1"
      },
      "source": [
        "·LISTAS\n",
        "··Crear una lista con 40 elementos aleatorios enteros.\n",
        "\n",
        "··Con una funcion (def) crear dos listas nuevas a partir de la lista creada por numeros aleatorios, en la cual en una esten los elementos pares, y en la otra los elementos impares.\n",
        "\n",
        "··Crear dos variables con la longitud de ambas listas nuevas e imprimir las variables.\n",
        "\n",
        "··Ordenar los elementos de la lista par de mayor a menor, y los de la lista impar de menor a mayor.\n",
        "\n",
        "··Utilizar al menos cuatro de las funciones de listas en python en la lista original de 40 elementos.\n",
        "\n"
      ]
    },
    {
      "cell_type": "code",
      "metadata": {
        "colab": {
          "base_uri": "https://localhost:8080/"
        },
        "id": "r4dX2I9j6KS0",
        "outputId": "4db4158b-4bbf-4f81-b4be-c0f2bc6d70e4"
      },
      "source": [
        "import random as r\n",
        "lista = range(1,100)\n",
        "a = (r.sample(lista,40))\n",
        "print(a)\n",
        "def impar(a):\n",
        "    lis=[]\n",
        "    for x in range(len(a)):\n",
        "        if a[x]%2:\n",
        "            lis.append(a[x])\n",
        "    return lis\n",
        "\n",
        "def par(a):\n",
        "    li=[]\n",
        "    for x in range(len(a)):\n",
        "        b= a[x]%2\n",
        "        if b==0:\n",
        "            li.append(a[x])\n",
        "    return li\n",
        "\n",
        "listaimp= impar(a)\n",
        "listapar= par(a)\n",
        "listaimp.sort()\n",
        "listapar.sort(reverse=True)\n",
        "print(listaimp)\n",
        "print(listapar)"
      ],
      "execution_count": 50,
      "outputs": [
        {
          "output_type": "stream",
          "text": [
            "[76, 82, 69, 93, 40, 87, 36, 4, 78, 5, 98, 88, 37, 48, 80, 23, 27, 46, 77, 68, 44, 70, 75, 53, 11, 1, 38, 9, 7, 58, 10, 24, 29, 74, 16, 32, 57, 51, 3, 12]\n",
            "[1, 3, 5, 7, 9, 11, 23, 27, 29, 37, 51, 53, 57, 69, 75, 77, 87, 93]\n",
            "[98, 88, 82, 80, 78, 76, 74, 70, 68, 58, 48, 46, 44, 40, 38, 36, 32, 24, 16, 12, 10, 4]\n"
          ],
          "name": "stdout"
        }
      ]
    },
    {
      "cell_type": "markdown",
      "metadata": {
        "id": "uRYJGUFG6qfd"
      },
      "source": [
        "·Diccionarios(No me deja agregar cosas al diccionario)\n",
        "··Crear un diccionario de 6 personas que conozcas con su primer nombre y su edad.\n",
        "\n",
        "··Crear una lista con los valores de la edad y reacomodar la lista de menor a mayor valor.\n",
        "\n",
        "··Usando el diccionario y un loop, imprimir solo los nombres.\n",
        "\n",
        "··Añadir dos personas nuevas a tu diccionario, incluyendo edad."
      ]
    },
    {
      "cell_type": "code",
      "metadata": {
        "id": "YUZMATFZ6u9f",
        "colab": {
          "base_uri": "https://localhost:8080/"
        },
        "outputId": "c349ae01-7744-409f-e589-829914c8e200"
      },
      "source": [
        "diccionario = {'Nombre': ['antonio ','paola','milton','jesus','luis','valeria'], 'Edad':[20,22,21,24,25,26]}\n",
        "lista = diccionario['Edad']\n",
        "diccionario ['jorge']=92\n",
        "diccionario ['ramiro']=78\n",
        "\n",
        "lista.sort()\n",
        "print(lista)\n",
        "\n",
        "for x in range(len(diccionario['Nombre'])):\n",
        "    print(diccionario['Nombre'][x])"
      ],
      "execution_count": 61,
      "outputs": [
        {
          "output_type": "stream",
          "text": [
            "[20, 21, 22, 24, 25, 26]\n",
            "antonio \n",
            "paola\n",
            "milton\n",
            "jesus\n",
            "luis\n",
            "valeria\n"
          ],
          "name": "stdout"
        }
      ]
    },
    {
      "cell_type": "markdown",
      "metadata": {
        "id": "Qvh58zXZscCz"
      },
      "source": [
        "·Sets\n",
        "··Crea un set con 100 numeros aleatorios enteros del 1 al 25.\n",
        "\n",
        "··Comprueba la longitud de tu set.\n",
        "\n",
        "··Crea una lista de 5 numeros aleatorios del 1 al 10 y comprueba si cada valor aparece en el set inicial"
      ]
    },
    {
      "cell_type": "code",
      "metadata": {
        "colab": {
          "base_uri": "https://localhost:8080/"
        },
        "id": "rLux4qERsapt",
        "outputId": "a888631a-8fb2-43b0-8d76-d0512e197370"
      },
      "source": [
        "import random as r\n",
        "s1 = set()\n",
        "i=0\n",
        "while i < 100:\n",
        "    s1.add(r.randint(1,25))\n",
        "    i = i+1\n",
        "print(s1)\n",
        "len(s1)\n",
        "print(\"La longitud del set es de \", len(s1))\n",
        "\n",
        "b = range(1,11)\n",
        "lista = (r.sample(b,5))\n",
        "print(lista)\n",
        "\n",
        "for x in range(len(lista)):\n",
        "    print(x+1 in s1)"
      ],
      "execution_count": 62,
      "outputs": [
        {
          "output_type": "stream",
          "text": [
            "{1, 2, 3, 4, 5, 6, 7, 8, 9, 10, 11, 12, 13, 14, 15, 16, 17, 18, 20, 21, 22, 23, 24, 25}\n",
            "La longitud del set es de  24\n",
            "[10, 8, 6, 1, 9]\n",
            "True\n",
            "True\n",
            "True\n",
            "True\n",
            "True\n"
          ],
          "name": "stdout"
        }
      ]
    }
  ]
}