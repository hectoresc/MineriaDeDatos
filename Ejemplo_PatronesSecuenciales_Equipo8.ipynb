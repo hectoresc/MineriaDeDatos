{
  "nbformat": 4,
  "nbformat_minor": 0,
  "metadata": {
    "colab": {
      "name": "Ejemplo_PatronesSecuenciales_Equipo8.ipynb",
      "provenance": [],
      "collapsed_sections": [],
      "include_colab_link": true
    },
    "kernelspec": {
      "name": "python3",
      "display_name": "Python 3"
    },
    "language_info": {
      "name": "python"
    }
  },
  "cells": [
    {
      "cell_type": "markdown",
      "metadata": {
        "id": "view-in-github",
        "colab_type": "text"
      },
      "source": [
        "<a href=\"https://colab.research.google.com/github/hectoresc/MineriaDeDatos/blob/main/Ejemplo_PatronesSecuenciales_Equipo8.ipynb\" target=\"_parent\"><img src=\"https://colab.research.google.com/assets/colab-badge.svg\" alt=\"Open In Colab\"/></a>"
      ]
    },
    {
      "cell_type": "markdown",
      "metadata": {
        "id": "J4C0lQVJ4Pdj"
      },
      "source": [
        "**Equipo 8**"
      ]
    },
    {
      "cell_type": "markdown",
      "metadata": {
        "id": "B5zmyf0u4K0c"
      },
      "source": [
        "**Integrantes:**\n",
        "\n",
        "Andrea Sarahi Gómez Ávila 2034174\n",
        "\n",
        "Joshune Juditht Arriaga Gómez 1853668\n",
        "\n",
        "Héctor Eleazar Escobedo 1745909\n",
        "\n",
        "Daniel Jair Martinez Ávila 1872137"
      ]
    },
    {
      "cell_type": "markdown",
      "metadata": {
        "id": "pKAwUfOHkaz3"
      },
      "source": [
        "Base de datos:Groceries dataset\n",
        "\n",
        "Url:https://www.kaggle.com/heeraldedhia/groceries-dataset"
      ]
    },
    {
      "cell_type": "code",
      "metadata": {
        "id": "UKW5xlqdgyAP"
      },
      "source": [
        "from google.colab import files\n",
        "files.upload()"
      ],
      "execution_count": null,
      "outputs": []
    },
    {
      "cell_type": "markdown",
      "metadata": {
        "id": "9dcKuoGr4Vxa"
      },
      "source": [
        "Importar librerías"
      ]
    },
    {
      "cell_type": "code",
      "metadata": {
        "id": "Y2Pq6Mu9g51V"
      },
      "source": [
        "import pandas as pd\n",
        "import matplotlib.pyplot as plt\n",
        "import numpy as np\n",
        "import seaborn as sns\n",
        "!pip install prefixspan\n",
        "import copy\n"
      ],
      "execution_count": null,
      "outputs": []
    },
    {
      "cell_type": "code",
      "metadata": {
        "id": "zBcaGT-mhAV1"
      },
      "source": [
        "tienda=pd.read_csv(\"Groceries_dataset.csv\")"
      ],
      "execution_count": null,
      "outputs": []
    },
    {
      "cell_type": "code",
      "metadata": {
        "colab": {
          "base_uri": "https://localhost:8080/",
          "height": 200
        },
        "id": "vvNVd5i7hYh9",
        "outputId": "77adfa2d-d2f4-4711-c260-b8441b8deec5"
      },
      "source": [
        "tienda.head()"
      ],
      "execution_count": null,
      "outputs": [
        {
          "output_type": "execute_result",
          "data": {
            "text/html": [
              "<div>\n",
              "<style scoped>\n",
              "    .dataframe tbody tr th:only-of-type {\n",
              "        vertical-align: middle;\n",
              "    }\n",
              "\n",
              "    .dataframe tbody tr th {\n",
              "        vertical-align: top;\n",
              "    }\n",
              "\n",
              "    .dataframe thead th {\n",
              "        text-align: right;\n",
              "    }\n",
              "</style>\n",
              "<table border=\"1\" class=\"dataframe\">\n",
              "  <thead>\n",
              "    <tr style=\"text-align: right;\">\n",
              "      <th></th>\n",
              "      <th>Member_number</th>\n",
              "      <th>Date</th>\n",
              "      <th>itemDescription</th>\n",
              "    </tr>\n",
              "  </thead>\n",
              "  <tbody>\n",
              "    <tr>\n",
              "      <th>0</th>\n",
              "      <td>1808</td>\n",
              "      <td>21-07-2015</td>\n",
              "      <td>tropical fruit</td>\n",
              "    </tr>\n",
              "    <tr>\n",
              "      <th>1</th>\n",
              "      <td>2552</td>\n",
              "      <td>05-01-2015</td>\n",
              "      <td>whole milk</td>\n",
              "    </tr>\n",
              "    <tr>\n",
              "      <th>2</th>\n",
              "      <td>2300</td>\n",
              "      <td>19-09-2015</td>\n",
              "      <td>pip fruit</td>\n",
              "    </tr>\n",
              "    <tr>\n",
              "      <th>3</th>\n",
              "      <td>1187</td>\n",
              "      <td>12-12-2015</td>\n",
              "      <td>other vegetables</td>\n",
              "    </tr>\n",
              "    <tr>\n",
              "      <th>4</th>\n",
              "      <td>3037</td>\n",
              "      <td>01-02-2015</td>\n",
              "      <td>whole milk</td>\n",
              "    </tr>\n",
              "  </tbody>\n",
              "</table>\n",
              "</div>"
            ],
            "text/plain": [
              "   Member_number        Date   itemDescription\n",
              "0           1808  21-07-2015    tropical fruit\n",
              "1           2552  05-01-2015        whole milk\n",
              "2           2300  19-09-2015         pip fruit\n",
              "3           1187  12-12-2015  other vegetables\n",
              "4           3037  01-02-2015        whole milk"
            ]
          },
          "metadata": {},
          "execution_count": 7
        }
      ]
    },
    {
      "cell_type": "code",
      "metadata": {
        "colab": {
          "base_uri": "https://localhost:8080/"
        },
        "id": "fPhEVsrK0riF",
        "outputId": "0d244fb2-b387-42ff-ce03-c11015eb3370"
      },
      "source": [
        "tienda.shape"
      ],
      "execution_count": null,
      "outputs": [
        {
          "output_type": "execute_result",
          "data": {
            "text/plain": [
              "(38765, 3)"
            ]
          },
          "metadata": {},
          "execution_count": 41
        }
      ]
    },
    {
      "cell_type": "markdown",
      "metadata": {
        "id": "kzp74-ZT0u6e"
      },
      "source": [
        "\n",
        "La base de datos tiene 38765 filas y 3 columnas"
      ]
    },
    {
      "cell_type": "markdown",
      "metadata": {
        "id": "eDIRj7XB0UI0"
      },
      "source": [
        "# **Limpieza**"
      ]
    },
    {
      "cell_type": "code",
      "metadata": {
        "id": "D3hAh_y7s8t0"
      },
      "source": [
        "#Revisando si hay valores nulos"
      ],
      "execution_count": null,
      "outputs": []
    },
    {
      "cell_type": "code",
      "metadata": {
        "colab": {
          "base_uri": "https://localhost:8080/"
        },
        "id": "Lh-Xy7VctCf7",
        "outputId": "ea17f509-35e3-4c1c-baa5-146afb0839ee"
      },
      "source": [
        "tienda.isnull().sum()"
      ],
      "execution_count": null,
      "outputs": [
        {
          "output_type": "execute_result",
          "data": {
            "text/plain": [
              "Member_number      0\n",
              "Date               0\n",
              "itemDescription    0\n",
              "dtype: int64"
            ]
          },
          "metadata": {},
          "execution_count": 42
        }
      ]
    },
    {
      "cell_type": "markdown",
      "metadata": {
        "id": "5s7nKTpntOmV"
      },
      "source": [
        "No hay datos nulos"
      ]
    },
    {
      "cell_type": "code",
      "metadata": {
        "id": "5jVz75y-ke4U"
      },
      "source": [
        "#Cambiando el formato de fecha\n",
        "tienda['Date'] = pd.to_datetime(tienda['Date'])\n"
      ],
      "execution_count": null,
      "outputs": []
    },
    {
      "cell_type": "code",
      "metadata": {
        "colab": {
          "base_uri": "https://localhost:8080/",
          "height": 408
        },
        "id": "gxS7CfefiCMF",
        "outputId": "9945f4f6-2bba-4ee2-8d21-5ee234735d5c"
      },
      "source": [
        "#Generando columnas para mes y dia\n",
        "\n",
        "tienda['fecha'] = tienda['Date'].dt.date\n",
        "\n",
        "tienda['mes'] = tienda['Date'].dt.month\n",
        "tienda['mes'] = tienda['mes'].replace((1,2,3,4,5,6,7,8,9,10,11,12), \n",
        "                                          ('Enero','Febrero','Marzo','Abril','Mayo','Junio','Julio','Agosto',\n",
        "                                          'Septiembre','Octubre','Noviembre','Diciembre'))\n",
        "\n",
        "tienda['dia'] = tienda['Date'].dt.weekday\n",
        "tienda['dia'] = tienda['dia'].replace((0,1,2,3,4,5,6), \n",
        "                                          ('Lunes','Martes','Miercoles','Jueves','Viernes','Sabado','Domingo'))\n",
        "tienda\n"
      ],
      "execution_count": null,
      "outputs": [
        {
          "output_type": "execute_result",
          "data": {
            "text/html": [
              "<div>\n",
              "<style scoped>\n",
              "    .dataframe tbody tr th:only-of-type {\n",
              "        vertical-align: middle;\n",
              "    }\n",
              "\n",
              "    .dataframe tbody tr th {\n",
              "        vertical-align: top;\n",
              "    }\n",
              "\n",
              "    .dataframe thead th {\n",
              "        text-align: right;\n",
              "    }\n",
              "</style>\n",
              "<table border=\"1\" class=\"dataframe\">\n",
              "  <thead>\n",
              "    <tr style=\"text-align: right;\">\n",
              "      <th></th>\n",
              "      <th>Member_number</th>\n",
              "      <th>Date</th>\n",
              "      <th>itemDescription</th>\n",
              "      <th>fecha</th>\n",
              "      <th>mes</th>\n",
              "      <th>dia</th>\n",
              "    </tr>\n",
              "  </thead>\n",
              "  <tbody>\n",
              "    <tr>\n",
              "      <th>0</th>\n",
              "      <td>1808</td>\n",
              "      <td>2015-07-21</td>\n",
              "      <td>tropical fruit</td>\n",
              "      <td>2015-07-21</td>\n",
              "      <td>Julio</td>\n",
              "      <td>Martes</td>\n",
              "    </tr>\n",
              "    <tr>\n",
              "      <th>1</th>\n",
              "      <td>2552</td>\n",
              "      <td>2015-05-01</td>\n",
              "      <td>whole milk</td>\n",
              "      <td>2015-05-01</td>\n",
              "      <td>Mayo</td>\n",
              "      <td>Viernes</td>\n",
              "    </tr>\n",
              "    <tr>\n",
              "      <th>2</th>\n",
              "      <td>2300</td>\n",
              "      <td>2015-09-19</td>\n",
              "      <td>pip fruit</td>\n",
              "      <td>2015-09-19</td>\n",
              "      <td>Septiembre</td>\n",
              "      <td>Sabado</td>\n",
              "    </tr>\n",
              "    <tr>\n",
              "      <th>3</th>\n",
              "      <td>1187</td>\n",
              "      <td>2015-12-12</td>\n",
              "      <td>other vegetables</td>\n",
              "      <td>2015-12-12</td>\n",
              "      <td>Diciembre</td>\n",
              "      <td>Sabado</td>\n",
              "    </tr>\n",
              "    <tr>\n",
              "      <th>4</th>\n",
              "      <td>3037</td>\n",
              "      <td>2015-01-02</td>\n",
              "      <td>whole milk</td>\n",
              "      <td>2015-01-02</td>\n",
              "      <td>Enero</td>\n",
              "      <td>Viernes</td>\n",
              "    </tr>\n",
              "    <tr>\n",
              "      <th>...</th>\n",
              "      <td>...</td>\n",
              "      <td>...</td>\n",
              "      <td>...</td>\n",
              "      <td>...</td>\n",
              "      <td>...</td>\n",
              "      <td>...</td>\n",
              "    </tr>\n",
              "    <tr>\n",
              "      <th>38760</th>\n",
              "      <td>4471</td>\n",
              "      <td>2014-08-10</td>\n",
              "      <td>sliced cheese</td>\n",
              "      <td>2014-08-10</td>\n",
              "      <td>Agosto</td>\n",
              "      <td>Domingo</td>\n",
              "    </tr>\n",
              "    <tr>\n",
              "      <th>38761</th>\n",
              "      <td>2022</td>\n",
              "      <td>2014-02-23</td>\n",
              "      <td>candy</td>\n",
              "      <td>2014-02-23</td>\n",
              "      <td>Febrero</td>\n",
              "      <td>Domingo</td>\n",
              "    </tr>\n",
              "    <tr>\n",
              "      <th>38762</th>\n",
              "      <td>1097</td>\n",
              "      <td>2014-04-16</td>\n",
              "      <td>cake bar</td>\n",
              "      <td>2014-04-16</td>\n",
              "      <td>Abril</td>\n",
              "      <td>Miercoles</td>\n",
              "    </tr>\n",
              "    <tr>\n",
              "      <th>38763</th>\n",
              "      <td>1510</td>\n",
              "      <td>2014-03-12</td>\n",
              "      <td>fruit/vegetable juice</td>\n",
              "      <td>2014-03-12</td>\n",
              "      <td>Marzo</td>\n",
              "      <td>Miercoles</td>\n",
              "    </tr>\n",
              "    <tr>\n",
              "      <th>38764</th>\n",
              "      <td>1521</td>\n",
              "      <td>2014-12-26</td>\n",
              "      <td>cat food</td>\n",
              "      <td>2014-12-26</td>\n",
              "      <td>Diciembre</td>\n",
              "      <td>Viernes</td>\n",
              "    </tr>\n",
              "  </tbody>\n",
              "</table>\n",
              "<p>38765 rows × 6 columns</p>\n",
              "</div>"
            ],
            "text/plain": [
              "       Member_number       Date  ...         mes        dia\n",
              "0               1808 2015-07-21  ...       Julio     Martes\n",
              "1               2552 2015-05-01  ...        Mayo    Viernes\n",
              "2               2300 2015-09-19  ...  Septiembre     Sabado\n",
              "3               1187 2015-12-12  ...   Diciembre     Sabado\n",
              "4               3037 2015-01-02  ...       Enero    Viernes\n",
              "...              ...        ...  ...         ...        ...\n",
              "38760           4471 2014-08-10  ...      Agosto    Domingo\n",
              "38761           2022 2014-02-23  ...     Febrero    Domingo\n",
              "38762           1097 2014-04-16  ...       Abril  Miercoles\n",
              "38763           1510 2014-03-12  ...       Marzo  Miercoles\n",
              "38764           1521 2014-12-26  ...   Diciembre    Viernes\n",
              "\n",
              "[38765 rows x 6 columns]"
            ]
          },
          "metadata": {},
          "execution_count": 9
        }
      ]
    },
    {
      "cell_type": "code",
      "metadata": {
        "colab": {
          "base_uri": "https://localhost:8080/"
        },
        "id": "pl73FsKhtUoT",
        "outputId": "8b52b4e0-39ee-4643-eb5b-a965cfcdf9a0"
      },
      "source": [
        "total_items=len(tienda)\n",
        "total_dias=len(np.unique(tienda['fecha']))\n",
        "total_meses=len(np.unique(tienda['Date'].dt.year))\n",
        "print(total_items,total_dias,total_meses)"
      ],
      "execution_count": null,
      "outputs": [
        {
          "output_type": "stream",
          "name": "stdout",
          "text": [
            "38765 728 2\n"
          ]
        }
      ]
    },
    {
      "cell_type": "markdown",
      "metadata": {
        "id": "CmtqnKfMv6q7"
      },
      "source": [
        "**38765 items vendidos en 728 días durante 24 meses**"
      ]
    },
    {
      "cell_type": "code",
      "metadata": {
        "colab": {
          "base_uri": "https://localhost:8080/",
          "height": 200
        },
        "id": "N5ubxmAUv3Fj",
        "outputId": "54263ce4-4a93-4e91-c611-8ebbef5cc8f6"
      },
      "source": [
        "# Quitando la columna Date\n",
        "tienda.drop('Date', axis = 1, inplace = True)\n",
        "tienda.head()"
      ],
      "execution_count": null,
      "outputs": [
        {
          "output_type": "execute_result",
          "data": {
            "text/html": [
              "<div>\n",
              "<style scoped>\n",
              "    .dataframe tbody tr th:only-of-type {\n",
              "        vertical-align: middle;\n",
              "    }\n",
              "\n",
              "    .dataframe tbody tr th {\n",
              "        vertical-align: top;\n",
              "    }\n",
              "\n",
              "    .dataframe thead th {\n",
              "        text-align: right;\n",
              "    }\n",
              "</style>\n",
              "<table border=\"1\" class=\"dataframe\">\n",
              "  <thead>\n",
              "    <tr style=\"text-align: right;\">\n",
              "      <th></th>\n",
              "      <th>Member_number</th>\n",
              "      <th>itemDescription</th>\n",
              "      <th>fecha</th>\n",
              "      <th>mes</th>\n",
              "      <th>dia</th>\n",
              "    </tr>\n",
              "  </thead>\n",
              "  <tbody>\n",
              "    <tr>\n",
              "      <th>0</th>\n",
              "      <td>1808</td>\n",
              "      <td>tropical fruit</td>\n",
              "      <td>2015-07-21</td>\n",
              "      <td>Julio</td>\n",
              "      <td>Martes</td>\n",
              "    </tr>\n",
              "    <tr>\n",
              "      <th>1</th>\n",
              "      <td>2552</td>\n",
              "      <td>whole milk</td>\n",
              "      <td>2015-05-01</td>\n",
              "      <td>Mayo</td>\n",
              "      <td>Viernes</td>\n",
              "    </tr>\n",
              "    <tr>\n",
              "      <th>2</th>\n",
              "      <td>2300</td>\n",
              "      <td>pip fruit</td>\n",
              "      <td>2015-09-19</td>\n",
              "      <td>Septiembre</td>\n",
              "      <td>Sabado</td>\n",
              "    </tr>\n",
              "    <tr>\n",
              "      <th>3</th>\n",
              "      <td>1187</td>\n",
              "      <td>other vegetables</td>\n",
              "      <td>2015-12-12</td>\n",
              "      <td>Diciembre</td>\n",
              "      <td>Sabado</td>\n",
              "    </tr>\n",
              "    <tr>\n",
              "      <th>4</th>\n",
              "      <td>3037</td>\n",
              "      <td>whole milk</td>\n",
              "      <td>2015-01-02</td>\n",
              "      <td>Enero</td>\n",
              "      <td>Viernes</td>\n",
              "    </tr>\n",
              "  </tbody>\n",
              "</table>\n",
              "</div>"
            ],
            "text/plain": [
              "   Member_number   itemDescription       fecha         mes      dia\n",
              "0           1808    tropical fruit  2015-07-21       Julio   Martes\n",
              "1           2552        whole milk  2015-05-01        Mayo  Viernes\n",
              "2           2300         pip fruit  2015-09-19  Septiembre   Sabado\n",
              "3           1187  other vegetables  2015-12-12   Diciembre   Sabado\n",
              "4           3037        whole milk  2015-01-02       Enero  Viernes"
            ]
          },
          "metadata": {},
          "execution_count": 11
        }
      ]
    },
    {
      "cell_type": "code",
      "metadata": {
        "id": "6BkM0ZZrneuv"
      },
      "source": [
        "#Renombrando columnas\n",
        "tienda.rename(columns = {'itemDescription':'Descripcion','Member_number':'Numero_miembro'}, inplace=True)"
      ],
      "execution_count": null,
      "outputs": []
    },
    {
      "cell_type": "code",
      "metadata": {
        "colab": {
          "base_uri": "https://localhost:8080/",
          "height": 200
        },
        "id": "FR4emlunl_sl",
        "outputId": "dbbb69b2-dc25-41d1-e0b0-0808abf07f0a"
      },
      "source": [
        "tienda['Descripcion'] = tienda['Descripcion'].str.strip()\n",
        "tienda['Descripcion'] = tienda['Descripcion'].str.lower()\n",
        "tienda.head()"
      ],
      "execution_count": null,
      "outputs": [
        {
          "output_type": "execute_result",
          "data": {
            "text/html": [
              "<div>\n",
              "<style scoped>\n",
              "    .dataframe tbody tr th:only-of-type {\n",
              "        vertical-align: middle;\n",
              "    }\n",
              "\n",
              "    .dataframe tbody tr th {\n",
              "        vertical-align: top;\n",
              "    }\n",
              "\n",
              "    .dataframe thead th {\n",
              "        text-align: right;\n",
              "    }\n",
              "</style>\n",
              "<table border=\"1\" class=\"dataframe\">\n",
              "  <thead>\n",
              "    <tr style=\"text-align: right;\">\n",
              "      <th></th>\n",
              "      <th>Numero_miembro</th>\n",
              "      <th>Descripcion</th>\n",
              "      <th>fecha</th>\n",
              "      <th>mes</th>\n",
              "      <th>dia</th>\n",
              "    </tr>\n",
              "  </thead>\n",
              "  <tbody>\n",
              "    <tr>\n",
              "      <th>0</th>\n",
              "      <td>1808</td>\n",
              "      <td>tropical fruit</td>\n",
              "      <td>2015-07-21</td>\n",
              "      <td>Julio</td>\n",
              "      <td>Martes</td>\n",
              "    </tr>\n",
              "    <tr>\n",
              "      <th>1</th>\n",
              "      <td>2552</td>\n",
              "      <td>whole milk</td>\n",
              "      <td>2015-05-01</td>\n",
              "      <td>Mayo</td>\n",
              "      <td>Viernes</td>\n",
              "    </tr>\n",
              "    <tr>\n",
              "      <th>2</th>\n",
              "      <td>2300</td>\n",
              "      <td>pip fruit</td>\n",
              "      <td>2015-09-19</td>\n",
              "      <td>Septiembre</td>\n",
              "      <td>Sabado</td>\n",
              "    </tr>\n",
              "    <tr>\n",
              "      <th>3</th>\n",
              "      <td>1187</td>\n",
              "      <td>other vegetables</td>\n",
              "      <td>2015-12-12</td>\n",
              "      <td>Diciembre</td>\n",
              "      <td>Sabado</td>\n",
              "    </tr>\n",
              "    <tr>\n",
              "      <th>4</th>\n",
              "      <td>3037</td>\n",
              "      <td>whole milk</td>\n",
              "      <td>2015-01-02</td>\n",
              "      <td>Enero</td>\n",
              "      <td>Viernes</td>\n",
              "    </tr>\n",
              "  </tbody>\n",
              "</table>\n",
              "</div>"
            ],
            "text/plain": [
              "   Numero_miembro       Descripcion       fecha         mes      dia\n",
              "0            1808    tropical fruit  2015-07-21       Julio   Martes\n",
              "1            2552        whole milk  2015-05-01        Mayo  Viernes\n",
              "2            2300         pip fruit  2015-09-19  Septiembre   Sabado\n",
              "3            1187  other vegetables  2015-12-12   Diciembre   Sabado\n",
              "4            3037        whole milk  2015-01-02       Enero  Viernes"
            ]
          },
          "metadata": {},
          "execution_count": 13
        }
      ]
    },
    {
      "cell_type": "markdown",
      "metadata": {
        "id": "jhYBcnu30IDj"
      },
      "source": [
        "##Secuencias# "
      ]
    },
    {
      "cell_type": "code",
      "metadata": {
        "id": "pWkxoBghwZxs"
      },
      "source": [
        "#Agrupando en una lista los productos que compro un mismo cliente en el mismo dia\n",
        "tienda=tienda.groupby(['Numero_miembro','fecha'])['Descripcion'].apply(lambda x: list(x))"
      ],
      "execution_count": null,
      "outputs": []
    },
    {
      "cell_type": "code",
      "metadata": {
        "colab": {
          "base_uri": "https://localhost:8080/"
        },
        "id": "8TIsQ5e4xscl",
        "outputId": "2c246be0-677f-4ff6-e442-3a7ca3f075fd"
      },
      "source": [
        "tienda.head(30)"
      ],
      "execution_count": null,
      "outputs": [
        {
          "output_type": "execute_result",
          "data": {
            "text/plain": [
              "Numero_miembro  fecha     \n",
              "1000            2014-06-24                    [whole milk, pastry, salty snack]\n",
              "                2015-03-15    [sausage, whole milk, semi-finished bread, yog...\n",
              "                2015-05-27                           [soda, pickled vegetables]\n",
              "                2015-07-24                       [canned beer, misc. beverages]\n",
              "                2015-11-25                          [sausage, hygiene articles]\n",
              "1001            2014-07-02                    [sausage, whole milk, rolls/buns]\n",
              "                2014-12-12                                   [whole milk, soda]\n",
              "                2015-01-20              [frankfurter, soda, whipped/sour cream]\n",
              "                2015-02-05                                  [frankfurter, curd]\n",
              "                2015-04-14                                  [beef, white bread]\n",
              "1002            2014-04-26                                 [butter, whole milk]\n",
              "                2014-09-02                [frozen vegetables, other vegetables]\n",
              "                2015-04-26                              [tropical fruit, sugar]\n",
              "                2015-08-30                   [butter milk, specialty chocolate]\n",
              "1003            2014-01-19                          [frozen meals, dental care]\n",
              "                2014-02-27                             [rolls/buns, rolls/buns]\n",
              "                2014-10-15                         [root vegetables, detergent]\n",
              "                2015-10-02                                [sausage, rolls/buns]\n",
              "1004            2014-01-05                      [dish cleaner, cling film/bags]\n",
              "                2014-01-07                           [canned beer, frozen fish]\n",
              "                2014-04-02              [pip fruit, whole milk, tropical fruit]\n",
              "                2014-08-19                [root vegetables, whole milk, pastry]\n",
              "                2014-10-06              [rolls/buns, red/blush wine, chocolate]\n",
              "                2014-10-07                    [other vegetables, shopping bags]\n",
              "                2014-10-13    [whole milk, chocolate, packaged fruit/vegetab...\n",
              "                2015-02-12                 [other vegetables, hygiene articles]\n",
              "1005            2014-01-23                      [whipped/sour cream, margarine]\n",
              "                2014-09-01                             [rolls/buns, rolls/buns]\n",
              "1006            2014-05-07                [bottled water, softener, rolls/buns]\n",
              "                2014-09-04                                   [whole milk, rice]\n",
              "Name: Descripcion, dtype: object"
            ]
          },
          "metadata": {},
          "execution_count": 15
        }
      ]
    },
    {
      "cell_type": "code",
      "metadata": {
        "colab": {
          "base_uri": "https://localhost:8080/"
        },
        "id": "oAy4jS3q2Qzt",
        "outputId": "fe3459bf-ff4f-4c56-c04a-bc6e86c6fdbb"
      },
      "source": [
        "tienda.shape"
      ],
      "execution_count": null,
      "outputs": [
        {
          "output_type": "execute_result",
          "data": {
            "text/plain": [
              "(14963,)"
            ]
          },
          "metadata": {},
          "execution_count": 51
        }
      ]
    },
    {
      "cell_type": "markdown",
      "metadata": {
        "id": "VWUVMUxQ2GoH"
      },
      "source": [
        "Ahora la base de datos tiene 14963 filas"
      ]
    },
    {
      "cell_type": "code",
      "metadata": {
        "colab": {
          "base_uri": "https://localhost:8080/"
        },
        "id": "78v2_nz9x6wT",
        "outputId": "92b82d49-6dd6-4a6d-b439-a167fb7b10db"
      },
      "source": [
        "#Se convierte el dataset en una lista\n",
        "transactions = tienda.values.tolist()\n",
        "transactions[:10]"
      ],
      "execution_count": null,
      "outputs": [
        {
          "output_type": "execute_result",
          "data": {
            "text/plain": [
              "[['whole milk', 'pastry', 'salty snack'],\n",
              " ['sausage', 'whole milk', 'semi-finished bread', 'yogurt'],\n",
              " ['soda', 'pickled vegetables'],\n",
              " ['canned beer', 'misc. beverages'],\n",
              " ['sausage', 'hygiene articles'],\n",
              " ['sausage', 'whole milk', 'rolls/buns'],\n",
              " ['whole milk', 'soda'],\n",
              " ['frankfurter', 'soda', 'whipped/sour cream'],\n",
              " ['frankfurter', 'curd'],\n",
              " ['beef', 'white bread']]"
            ]
          },
          "metadata": {},
          "execution_count": 41
        }
      ]
    },
    {
      "cell_type": "markdown",
      "metadata": {
        "id": "JJlEhTnbjCMQ"
      },
      "source": [
        "Subsecuencias"
      ]
    },
    {
      "cell_type": "code",
      "metadata": {
        "id": "JhkBXQXwR6CW"
      },
      "source": [
        "\n",
        "def isSubsequence(mainSequence, subSequence):\n",
        "    subSequenceCopia = list(subSequence) # copiar la secuencia\n",
        "    return isSubsequenceRecursive(mainSequence, subSequenceCopia) \n",
        "\n",
        "\n",
        "def isSubsequenceRecursive(mainSequence, subSequenceClone, start=0):\n",
        "    # Revisa si esta vacío: \n",
        "    if (not subSequenceClone):\n",
        "        return True\n",
        "    # \n",
        "    firstElem = set(subSequenceClone.pop(0))\n",
        "    # \n",
        "    for i in range(start, len(mainSequence)):\n",
        "        if (set(mainSequence[i]).issuperset(firstElem)):\n",
        "          \n",
        "            return isSubsequenceRecursive(mainSequence, subSequenceCopia, i + 1)\n",
        "    return False"
      ],
      "execution_count": null,
      "outputs": []
    },
    {
      "cell_type": "code",
      "metadata": {
        "id": "TUbkUlnJR8pv"
      },
      "source": [
        "aSequence = transactions[:1]"
      ],
      "execution_count": null,
      "outputs": []
    },
    {
      "cell_type": "code",
      "metadata": {
        "colab": {
          "base_uri": "https://localhost:8080/"
        },
        "id": "bwhzX97nSL93",
        "outputId": "9947f66d-6532-4e6b-fdd7-526debdf3780"
      },
      "source": [
        "isSubsequence(aSequence, [['pastry', 'salty snack']])"
      ],
      "execution_count": null,
      "outputs": [
        {
          "output_type": "execute_result",
          "data": {
            "text/plain": [
              "True"
            ]
          },
          "metadata": {},
          "execution_count": 22
        }
      ]
    },
    {
      "cell_type": "code",
      "metadata": {
        "id": "3VtZaGjqUlwe"
      },
      "source": [
        "#Calcula la longitud de una secuencia\n",
        "def sequenceLength(sequence):\n",
        "    return sum(len(i) for i in sequence)"
      ],
      "execution_count": null,
      "outputs": []
    },
    {
      "cell_type": "code",
      "metadata": {
        "colab": {
          "base_uri": "https://localhost:8080/"
        },
        "id": "Ps3gnubQUoY-",
        "outputId": "f101c615-27ef-4786-b0b1-204197fa0ced"
      },
      "source": [
        "\n",
        "print(sequenceLength (transactions[2:3]))"
      ],
      "execution_count": null,
      "outputs": [
        {
          "output_type": "stream",
          "name": "stdout",
          "text": [
            "2\n"
          ]
        }
      ]
    },
    {
      "cell_type": "markdown",
      "metadata": {
        "id": "49wWf3d4gS9o"
      },
      "source": [
        "## **Prexispan**"
      ]
    },
    {
      "cell_type": "code",
      "metadata": {
        "id": "uqDwhnGiam5i"
      },
      "source": [
        "from prefixspan import PrefixSpan\n",
        "\n",
        "\n",
        "tr = PrefixSpan(transactions)"
      ],
      "execution_count": null,
      "outputs": []
    },
    {
      "cell_type": "markdown",
      "metadata": {
        "id": "VscU-mdlhmJ2"
      },
      "source": [
        "Subsecuencias con un umbral de soporte minimo de 100"
      ]
    },
    {
      "cell_type": "code",
      "metadata": {
        "colab": {
          "base_uri": "https://localhost:8080/"
        },
        "id": "WZkcHFIYa8iq",
        "outputId": "f1cab8e6-a5e0-4d23-c326-c5ab514dce4c"
      },
      "source": [
        "print(tr.frequent(100))"
      ],
      "execution_count": null,
      "outputs": [
        {
          "output_type": "stream",
          "name": "stdout",
          "text": [
            "[(2363, ['whole milk']), (116, ['whole milk', 'yogurt']), (135, ['whole milk', 'rolls/buns']), (115, ['whole milk', 'soda']), (105, ['whole milk', 'other vegetables']), (131, ['whole milk', 'whole milk']), (774, ['pastry']), (281, ['salty snack']), (903, ['sausage']), (121, ['sausage', 'whole milk']), (142, ['semi-finished bread']), (1285, ['yogurt']), (1453, ['soda']), (134, ['pickled vegetables']), (702, ['canned beer']), (236, ['misc. beverages']), (205, ['hygiene articles']), (1646, ['rolls/buns']), (565, ['frankfurter']), (654, ['whipped/sour cream']), (504, ['curd']), (508, ['beef']), (359, ['white bread']), (527, ['butter']), (419, ['frozen vegetables']), (1827, ['other vegetables']), (101, ['other vegetables', 'rolls/buns']), (124, ['other vegetables', 'whole milk']), (1014, ['tropical fruit']), (265, ['sugar']), (263, ['butter milk']), (239, ['specialty chocolate']), (251, ['frozen meals']), (1041, ['root vegetables']), (129, ['detergent']), (102, ['frozen fish']), (734, ['pip fruit']), (157, ['red/blush wine']), (353, ['chocolate']), (712, ['shopping bags']), (127, ['packaged fruit/vegetables']), (482, ['margarine']), (908, ['bottled water']), (417, ['chicken']), (146, ['flour']), (678, ['bottled beer']), (327, ['hamburger meat']), (353, ['dessert']), (555, ['domestic eggs']), (175, ['white wine']), (115, ['canned fish']), (158, ['herbs']), (582, ['newspapers']), (473, ['coffee']), (320, ['uht-milk']), (209, ['specialty bar']), (210, ['sliced cheese']), (795, ['citrus fruit']), (215, ['candy']), (216, ['grapes']), (563, ['brown bread']), (152, ['processed cheese']), (303, ['onions']), (220, ['hard cheese']), (331, ['napkins']), (252, ['meat']), (509, ['fruit/vegetable juice']), (150, ['soft cheese']), (223, ['oil']), (268, ['long life bakery product']), (248, ['beverages']), (326, ['berries']), (121, ['baking powder']), (103, ['liquor']), (256, ['ham']), (354, ['cream cheese']), (555, ['pork']), (227, ['ice cream']), (117, ['pot plants']), (277, ['waffles']), (177, ['cat food']), (180, ['chewing gum']), (121, ['pasta']), (135, ['dishes']), (100, ['spread cheese']), (106, ['seasonal products'])]\n"
          ]
        }
      ]
    },
    {
      "cell_type": "markdown",
      "metadata": {
        "id": "UaAuEAfTn-ru"
      },
      "source": [
        "5 subecuencias más frecuentes"
      ]
    },
    {
      "cell_type": "code",
      "metadata": {
        "colab": {
          "base_uri": "https://localhost:8080/"
        },
        "id": "SHHgUX1MdM2f",
        "outputId": "fbb6e32e-ad76-4714-8014-98a468b47480"
      },
      "source": [
        "print(tr.topk(5))"
      ],
      "execution_count": null,
      "outputs": [
        {
          "output_type": "stream",
          "name": "stdout",
          "text": [
            "[(2363, ['whole milk']), (1827, ['other vegetables']), (1646, ['rolls/buns']), (1453, ['soda']), (1285, ['yogurt'])]\n"
          ]
        }
      ]
    }
  ]
}