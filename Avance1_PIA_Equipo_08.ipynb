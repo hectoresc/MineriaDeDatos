{
  "nbformat": 4,
  "nbformat_minor": 0,
  "metadata": {
    "colab": {
      "name": "Avance1_PIA_Equipo_08.ipynb",
      "provenance": [],
      "collapsed_sections": [],
      "include_colab_link": true
    },
    "kernelspec": {
      "name": "python3",
      "display_name": "Python 3"
    },
    "language_info": {
      "name": "python"
    }
  },
  "cells": [
    {
      "cell_type": "markdown",
      "metadata": {
        "id": "view-in-github",
        "colab_type": "text"
      },
      "source": [
        "<a href=\"https://colab.research.google.com/github/hectoresc/MineriaDeDatos/blob/main/Avance1_PIA_Equipo_08.ipynb\" target=\"_parent\"><img src=\"https://colab.research.google.com/assets/colab-badge.svg\" alt=\"Open In Colab\"/></a>"
      ]
    },
    {
      "cell_type": "markdown",
      "metadata": {
        "id": "q70Fm7bJNsmJ"
      },
      "source": [
        "#**Equipo 8**\n",
        "###**Grupo 001 Lunes 7:00pm-10:00pm**\n",
        "**Integrantes:**\n",
        "\n",
        "  Andrea Sarahi Gómez Ávila 2034174\n",
        "\n",
        "  Joshune Juditht Arriaga Gómez 1853668\n",
        "\n",
        "  Héctor Eleazar Escobedo 1745909\n",
        "\n",
        "  Daniel Jair Martinez Ávila 1872137"
      ]
    },
    {
      "cell_type": "markdown",
      "metadata": {
        "id": "lwGS_g0cOmlM"
      },
      "source": [
        "**Base de datos:** Bitcoin Historical Data\n",
        "\n",
        "URL:https://www.kaggle.com/mczielinski/bitcoin-historical-data"
      ]
    },
    {
      "cell_type": "markdown",
      "metadata": {
        "id": "DrmrO2PJPFsi"
      },
      "source": [
        "**Introducción**\n",
        "\n",
        "El bitcoin es una moneda virtual que, como cualquier otra, puede ser utilizada para el intercambio de productos o servicios. La diferencia con las divisas tradicionales del resto del mundo —como el dólar o el peso— es que no está a expensas de un banco central, no depende de ninguna autoridad financiera, y no existe físicamente.\n",
        "\n",
        "**Descripción de datos**\n",
        "\n",
        "a) ¿Qué tipo de datos son?\n",
        "\n",
        "Los datos que se trabajaran son los precios de apertura, cierre, volumen del precio del la moneda virtual bitcoin durante enero del 2012 a marzo del 2021.\n",
        "\n",
        "b) Descripción de las columnas.\n",
        "\n",
        "Las columnas contienen el tiempo en unidad Unix, el precio de apertura, cierre, el precio maximo, el precio minimo y el volumen.\n",
        "\n",
        "**Justificación del uso de datos**\n",
        "\n",
        "a)Saber un poco más de como ha sido el bitcoin en el comercio, cuál ha sido su desarrollo con el paso del tiempo,quú tan frecuentes son ss cambios. \n",
        "\n",
        "b)Conocer la función de una nueva moneda.\n",
        "\n",
        "**Objetivo Final**\n",
        "\n",
        "Predecir el precio del bitcoin mediante un modelo de mayor precisión.\n",
        "\n",
        "**Objetivo secundario**\n",
        "\n",
        "Identificar las posibles causas en las que el valor del bitcoin entro en recesión.\n",
        "\n",
        "**Preguntas de interés**\n",
        "\n",
        "a) ¿Qué impacto ha tenido el bitcoin desde su lanzamiento?\n",
        "\n",
        "b) ¿Cómo funciona el bitcoin en el comercio?\n",
        "\n",
        "**Limpieza de datos**"
      ]
    },
    {
      "cell_type": "markdown",
      "metadata": {
        "id": "sutg5wq5ES5y"
      },
      "source": [
        "* Importar librerías"
      ]
    },
    {
      "cell_type": "markdown",
      "metadata": {
        "id": "m-CyAy0PEctv"
      },
      "source": [
        ""
      ]
    },
    {
      "cell_type": "code",
      "metadata": {
        "id": "V0EPc54GZSXc"
      },
      "source": [
        "import pandas as pd\n",
        "import seaborn as sns\n",
        "from datetime import datetime"
      ],
      "execution_count": null,
      "outputs": []
    },
    {
      "cell_type": "markdown",
      "metadata": {
        "id": "lggnJo0IEZQW"
      },
      "source": [
        "* Importar datos"
      ]
    },
    {
      "cell_type": "code",
      "metadata": {
        "colab": {
          "base_uri": "https://localhost:8080/",
          "height": 204
        },
        "id": "1z-CoZKnb7FQ",
        "outputId": "bc08a99a-4886-469c-9148-ef60a921c474"
      },
      "source": [
        "btc = pd.read_csv(\"bitcoin_historical.csv\")\n",
        "btc.head()"
      ],
      "execution_count": null,
      "outputs": [
        {
          "output_type": "execute_result",
          "data": {
            "text/html": [
              "<div>\n",
              "<style scoped>\n",
              "    .dataframe tbody tr th:only-of-type {\n",
              "        vertical-align: middle;\n",
              "    }\n",
              "\n",
              "    .dataframe tbody tr th {\n",
              "        vertical-align: top;\n",
              "    }\n",
              "\n",
              "    .dataframe thead th {\n",
              "        text-align: right;\n",
              "    }\n",
              "</style>\n",
              "<table border=\"1\" class=\"dataframe\">\n",
              "  <thead>\n",
              "    <tr style=\"text-align: right;\">\n",
              "      <th></th>\n",
              "      <th>Timestamp</th>\n",
              "      <th>Open</th>\n",
              "      <th>High</th>\n",
              "      <th>Low</th>\n",
              "      <th>Close</th>\n",
              "      <th>Volume_(BTC)</th>\n",
              "      <th>Volume_(Currency)</th>\n",
              "      <th>Weighted_Price</th>\n",
              "    </tr>\n",
              "  </thead>\n",
              "  <tbody>\n",
              "    <tr>\n",
              "      <th>0</th>\n",
              "      <td>1325317920</td>\n",
              "      <td>4.39</td>\n",
              "      <td>4.39</td>\n",
              "      <td>4.39</td>\n",
              "      <td>4.39</td>\n",
              "      <td>0.455581</td>\n",
              "      <td>2.0</td>\n",
              "      <td>4.39</td>\n",
              "    </tr>\n",
              "    <tr>\n",
              "      <th>1</th>\n",
              "      <td>1325317980</td>\n",
              "      <td>NaN</td>\n",
              "      <td>NaN</td>\n",
              "      <td>NaN</td>\n",
              "      <td>NaN</td>\n",
              "      <td>NaN</td>\n",
              "      <td>NaN</td>\n",
              "      <td>NaN</td>\n",
              "    </tr>\n",
              "    <tr>\n",
              "      <th>2</th>\n",
              "      <td>1325318040</td>\n",
              "      <td>NaN</td>\n",
              "      <td>NaN</td>\n",
              "      <td>NaN</td>\n",
              "      <td>NaN</td>\n",
              "      <td>NaN</td>\n",
              "      <td>NaN</td>\n",
              "      <td>NaN</td>\n",
              "    </tr>\n",
              "    <tr>\n",
              "      <th>3</th>\n",
              "      <td>1325318100</td>\n",
              "      <td>NaN</td>\n",
              "      <td>NaN</td>\n",
              "      <td>NaN</td>\n",
              "      <td>NaN</td>\n",
              "      <td>NaN</td>\n",
              "      <td>NaN</td>\n",
              "      <td>NaN</td>\n",
              "    </tr>\n",
              "    <tr>\n",
              "      <th>4</th>\n",
              "      <td>1325318160</td>\n",
              "      <td>NaN</td>\n",
              "      <td>NaN</td>\n",
              "      <td>NaN</td>\n",
              "      <td>NaN</td>\n",
              "      <td>NaN</td>\n",
              "      <td>NaN</td>\n",
              "      <td>NaN</td>\n",
              "    </tr>\n",
              "  </tbody>\n",
              "</table>\n",
              "</div>"
            ],
            "text/plain": [
              "    Timestamp  Open  High  ...  Volume_(BTC)  Volume_(Currency)  Weighted_Price\n",
              "0  1325317920  4.39  4.39  ...      0.455581                2.0            4.39\n",
              "1  1325317980   NaN   NaN  ...           NaN                NaN             NaN\n",
              "2  1325318040   NaN   NaN  ...           NaN                NaN             NaN\n",
              "3  1325318100   NaN   NaN  ...           NaN                NaN             NaN\n",
              "4  1325318160   NaN   NaN  ...           NaN                NaN             NaN\n",
              "\n",
              "[5 rows x 8 columns]"
            ]
          },
          "metadata": {},
          "execution_count": 2
        }
      ]
    },
    {
      "cell_type": "markdown",
      "metadata": {
        "id": "qU1wMDOvElea"
      },
      "source": [
        "* Cambiar nombres de columnas"
      ]
    },
    {
      "cell_type": "markdown",
      "metadata": {
        "id": "zgIXP2jVEsO-"
      },
      "source": [
        "Se convierten a minúsculas los nombres y se agregan \"_\" en lugar de espacios para trabajar de una forma más eficiente"
      ]
    },
    {
      "cell_type": "code",
      "metadata": {
        "colab": {
          "base_uri": "https://localhost:8080/"
        },
        "id": "5uA-TLPNw-PU",
        "outputId": "ff0b3f5a-a94c-4f89-9095-a3ee259b8389"
      },
      "source": [
        "ls = []\n",
        "for i in btc.columns:\n",
        "  ls.append(i.lower().replace(\" \", \"_\"))\n",
        "ls\n",
        "btc.columns = ls\n",
        "btc.columns"
      ],
      "execution_count": null,
      "outputs": [
        {
          "output_type": "execute_result",
          "data": {
            "text/plain": [
              "Index(['timestamp', 'open', 'high', 'low', 'close', 'volume_(btc)',\n",
              "       'volume_(currency)', 'weighted_price'],\n",
              "      dtype='object')"
            ]
          },
          "metadata": {},
          "execution_count": 3
        }
      ]
    },
    {
      "cell_type": "markdown",
      "metadata": {
        "id": "wq9VcNjKFPNi"
      },
      "source": [
        "Se usa btc.info para identificar de manera rápida el tipo de datos que tenemos, las columnas y filas que tenemos y la memoria que usa nuestra base de datos."
      ]
    },
    {
      "cell_type": "code",
      "metadata": {
        "colab": {
          "base_uri": "https://localhost:8080/"
        },
        "id": "DhmZkU6Qeaxj",
        "outputId": "3ad4c4d5-7237-4706-d37b-62c07db8426d"
      },
      "source": [
        "btc.info()"
      ],
      "execution_count": null,
      "outputs": [
        {
          "output_type": "stream",
          "name": "stdout",
          "text": [
            "<class 'pandas.core.frame.DataFrame'>\n",
            "RangeIndex: 4857377 entries, 0 to 4857376\n",
            "Data columns (total 8 columns):\n",
            " #   Column             Dtype  \n",
            "---  ------             -----  \n",
            " 0   timestamp          int64  \n",
            " 1   open               float64\n",
            " 2   high               float64\n",
            " 3   low                float64\n",
            " 4   close              float64\n",
            " 5   volume_(btc)       float64\n",
            " 6   volume_(currency)  float64\n",
            " 7   weighted_price     float64\n",
            "dtypes: float64(7), int64(1)\n",
            "memory usage: 296.5 MB\n"
          ]
        }
      ]
    },
    {
      "cell_type": "markdown",
      "metadata": {
        "id": "nL6YstuSF_CZ"
      },
      "source": [
        "* Valores nulos"
      ]
    },
    {
      "cell_type": "markdown",
      "metadata": {
        "id": "7iMq5rcmFnNJ"
      },
      "source": [
        "Con la librería seaborn, creamos un gráfico que nos permita entender como se comportan los missing values, se ven muchos más puntos vacíos al inicio de nuestra serie, esto es entendible pues en esos momentos bitcoin no era una moneda tan popular como lo es ahora, sin embargo, como sabemos que noestros datos de timestamp están en segundos, puede que esto no nos afecte demasiado."
      ]
    },
    {
      "cell_type": "code",
      "metadata": {
        "colab": {
          "base_uri": "https://localhost:8080/",
          "height": 370
        },
        "id": "S3b4-MVnhgbr",
        "outputId": "317f1a59-7aa7-443e-c72a-e23181cf7c25"
      },
      "source": [
        "sns.heatmap(btc.isnull(), cbar=False)"
      ],
      "execution_count": null,
      "outputs": [
        {
          "output_type": "execute_result",
          "data": {
            "text/plain": [
              "<matplotlib.axes._subplots.AxesSubplot at 0x7fb4103e40d0>"
            ]
          },
          "metadata": {},
          "execution_count": 5
        },
        {
          "output_type": "display_data",
          "data": {
            "image/png": "[encoded data removed]",
            "text/plain": [
              "<Figure size 432x288 with 1 Axes>"
            ]
          },
          "metadata": {
            "needs_background": "light"
          }
        }
      ]
    },
    {
      "cell_type": "markdown",
      "metadata": {
        "id": "gZN0SNgKGErV"
      },
      "source": [
        "Para futuros proyectos o modelos que queramos realizar, es más práctico tener los datos en una serie de tiempo, para hacer esto, convertiremos nuestra timestamp unix a una en segundos"
      ]
    },
    {
      "cell_type": "code",
      "metadata": {
        "id": "OEcJFaQMCbtp"
      },
      "source": [
        "btc.timestamp = pd.to_datetime(btc.timestamp, unit='s')"
      ],
      "execution_count": null,
      "outputs": []
    },
    {
      "cell_type": "code",
      "metadata": {
        "colab": {
          "base_uri": "https://localhost:8080/",
          "height": 204
        },
        "id": "EDLXOpCB9_5t",
        "outputId": "649f4994-2360-46ac-a6ad-d124cc06e7cc"
      },
      "source": [
        "btc.head()"
      ],
      "execution_count": null,
      "outputs": [
        {
          "output_type": "execute_result",
          "data": {
            "text/html": [
              "<div>\n",
              "<style scoped>\n",
              "    .dataframe tbody tr th:only-of-type {\n",
              "        vertical-align: middle;\n",
              "    }\n",
              "\n",
              "    .dataframe tbody tr th {\n",
              "        vertical-align: top;\n",
              "    }\n",
              "\n",
              "    .dataframe thead th {\n",
              "        text-align: right;\n",
              "    }\n",
              "</style>\n",
              "<table border=\"1\" class=\"dataframe\">\n",
              "  <thead>\n",
              "    <tr style=\"text-align: right;\">\n",
              "      <th></th>\n",
              "      <th>timestamp</th>\n",
              "      <th>open</th>\n",
              "      <th>high</th>\n",
              "      <th>low</th>\n",
              "      <th>close</th>\n",
              "      <th>volume_(btc)</th>\n",
              "      <th>volume_(currency)</th>\n",
              "      <th>weighted_price</th>\n",
              "    </tr>\n",
              "  </thead>\n",
              "  <tbody>\n",
              "    <tr>\n",
              "      <th>0</th>\n",
              "      <td>2011-12-31 07:52:00</td>\n",
              "      <td>4.39</td>\n",
              "      <td>4.39</td>\n",
              "      <td>4.39</td>\n",
              "      <td>4.39</td>\n",
              "      <td>0.455581</td>\n",
              "      <td>2.000000</td>\n",
              "      <td>4.390000</td>\n",
              "    </tr>\n",
              "    <tr>\n",
              "      <th>1</th>\n",
              "      <td>2011-12-31 15:50:00</td>\n",
              "      <td>4.39</td>\n",
              "      <td>4.39</td>\n",
              "      <td>4.39</td>\n",
              "      <td>4.39</td>\n",
              "      <td>48.000000</td>\n",
              "      <td>210.720000</td>\n",
              "      <td>4.390000</td>\n",
              "    </tr>\n",
              "    <tr>\n",
              "      <th>2</th>\n",
              "      <td>2011-12-31 16:59:00</td>\n",
              "      <td>4.50</td>\n",
              "      <td>4.57</td>\n",
              "      <td>4.50</td>\n",
              "      <td>4.57</td>\n",
              "      <td>37.862297</td>\n",
              "      <td>171.380338</td>\n",
              "      <td>4.526411</td>\n",
              "    </tr>\n",
              "    <tr>\n",
              "      <th>3</th>\n",
              "      <td>2011-12-31 17:00:00</td>\n",
              "      <td>4.58</td>\n",
              "      <td>4.58</td>\n",
              "      <td>4.58</td>\n",
              "      <td>4.58</td>\n",
              "      <td>9.000000</td>\n",
              "      <td>41.220000</td>\n",
              "      <td>4.580000</td>\n",
              "    </tr>\n",
              "    <tr>\n",
              "      <th>4</th>\n",
              "      <td>2012-01-01 04:16:00</td>\n",
              "      <td>4.58</td>\n",
              "      <td>4.58</td>\n",
              "      <td>4.58</td>\n",
              "      <td>4.58</td>\n",
              "      <td>1.502000</td>\n",
              "      <td>6.879160</td>\n",
              "      <td>4.580000</td>\n",
              "    </tr>\n",
              "  </tbody>\n",
              "</table>\n",
              "</div>"
            ],
            "text/plain": [
              "            timestamp  open  ...  volume_(currency)  weighted_price\n",
              "0 2011-12-31 07:52:00  4.39  ...           2.000000        4.390000\n",
              "1 2011-12-31 15:50:00  4.39  ...         210.720000        4.390000\n",
              "2 2011-12-31 16:59:00  4.50  ...         171.380338        4.526411\n",
              "3 2011-12-31 17:00:00  4.58  ...          41.220000        4.580000\n",
              "4 2012-01-01 04:16:00  4.58  ...           6.879160        4.580000\n",
              "\n",
              "[5 rows x 8 columns]"
            ]
          },
          "metadata": {},
          "execution_count": 9
        }
      ]
    },
    {
      "cell_type": "markdown",
      "metadata": {
        "id": "rET8TA_SGXat"
      },
      "source": [
        "Ya convertidos a segundos nuestros datos, nos damos cuenta que debido a los valores nulos, no será posible trabajarlos como una serie de tiempo, para hacer esto, podemos obtener los datos de un forma díaria, agrupando los datos en día y haciendo el promedio en las columnas para obtener valores consistentes."
      ]
    },
    {
      "cell_type": "code",
      "metadata": {
        "colab": {
          "base_uri": "https://localhost:8080/",
          "height": 419
        },
        "id": "quRTxwxZCllG",
        "outputId": "25627fb6-998c-4811-f92b-41d98828a202"
      },
      "source": [
        "btc.index = btc.timestamp\n",
        "btc = btc.resample('D').mean()\n",
        "btc.reset_index()"
      ],
      "execution_count": null,
      "outputs": [
        {
          "output_type": "execute_result",
          "data": {
            "text/html": [
              "<div>\n",
              "<style scoped>\n",
              "    .dataframe tbody tr th:only-of-type {\n",
              "        vertical-align: middle;\n",
              "    }\n",
              "\n",
              "    .dataframe tbody tr th {\n",
              "        vertical-align: top;\n",
              "    }\n",
              "\n",
              "    .dataframe thead th {\n",
              "        text-align: right;\n",
              "    }\n",
              "</style>\n",
              "<table border=\"1\" class=\"dataframe\">\n",
              "  <thead>\n",
              "    <tr style=\"text-align: right;\">\n",
              "      <th></th>\n",
              "      <th>timestamp</th>\n",
              "      <th>open</th>\n",
              "      <th>high</th>\n",
              "      <th>low</th>\n",
              "      <th>close</th>\n",
              "      <th>volume_(btc)</th>\n",
              "      <th>volume_(currency)</th>\n",
              "      <th>weighted_price</th>\n",
              "    </tr>\n",
              "  </thead>\n",
              "  <tbody>\n",
              "    <tr>\n",
              "      <th>0</th>\n",
              "      <td>2011-12-31</td>\n",
              "      <td>4.465000</td>\n",
              "      <td>4.482500</td>\n",
              "      <td>4.465000</td>\n",
              "      <td>4.482500</td>\n",
              "      <td>23.829470</td>\n",
              "      <td>106.330084</td>\n",
              "      <td>4.471603</td>\n",
              "    </tr>\n",
              "    <tr>\n",
              "      <th>1</th>\n",
              "      <td>2012-01-01</td>\n",
              "      <td>4.806667</td>\n",
              "      <td>4.806667</td>\n",
              "      <td>4.806667</td>\n",
              "      <td>4.806667</td>\n",
              "      <td>7.200667</td>\n",
              "      <td>35.259720</td>\n",
              "      <td>4.806667</td>\n",
              "    </tr>\n",
              "    <tr>\n",
              "      <th>2</th>\n",
              "      <td>2012-01-02</td>\n",
              "      <td>5.000000</td>\n",
              "      <td>5.000000</td>\n",
              "      <td>5.000000</td>\n",
              "      <td>5.000000</td>\n",
              "      <td>19.048000</td>\n",
              "      <td>95.240000</td>\n",
              "      <td>5.000000</td>\n",
              "    </tr>\n",
              "    <tr>\n",
              "      <th>3</th>\n",
              "      <td>2012-01-03</td>\n",
              "      <td>5.252500</td>\n",
              "      <td>5.252500</td>\n",
              "      <td>5.252500</td>\n",
              "      <td>5.252500</td>\n",
              "      <td>11.004660</td>\n",
              "      <td>58.100651</td>\n",
              "      <td>5.252500</td>\n",
              "    </tr>\n",
              "    <tr>\n",
              "      <th>4</th>\n",
              "      <td>2012-01-04</td>\n",
              "      <td>5.200000</td>\n",
              "      <td>5.223333</td>\n",
              "      <td>5.200000</td>\n",
              "      <td>5.223333</td>\n",
              "      <td>11.914807</td>\n",
              "      <td>63.119577</td>\n",
              "      <td>5.208159</td>\n",
              "    </tr>\n",
              "    <tr>\n",
              "      <th>...</th>\n",
              "      <td>...</td>\n",
              "      <td>...</td>\n",
              "      <td>...</td>\n",
              "      <td>...</td>\n",
              "      <td>...</td>\n",
              "      <td>...</td>\n",
              "      <td>...</td>\n",
              "      <td>...</td>\n",
              "    </tr>\n",
              "    <tr>\n",
              "      <th>3374</th>\n",
              "      <td>2021-03-27</td>\n",
              "      <td>55193.240643</td>\n",
              "      <td>55219.665031</td>\n",
              "      <td>55168.757372</td>\n",
              "      <td>55195.415367</td>\n",
              "      <td>1.823877</td>\n",
              "      <td>100884.732367</td>\n",
              "      <td>55193.357260</td>\n",
              "    </tr>\n",
              "    <tr>\n",
              "      <th>3375</th>\n",
              "      <td>2021-03-28</td>\n",
              "      <td>55833.608471</td>\n",
              "      <td>55857.735342</td>\n",
              "      <td>55810.425126</td>\n",
              "      <td>55835.012863</td>\n",
              "      <td>1.447939</td>\n",
              "      <td>80632.115263</td>\n",
              "      <td>55832.958824</td>\n",
              "    </tr>\n",
              "    <tr>\n",
              "      <th>3376</th>\n",
              "      <td>2021-03-29</td>\n",
              "      <td>56914.886595</td>\n",
              "      <td>56946.213593</td>\n",
              "      <td>56885.242967</td>\n",
              "      <td>56915.629993</td>\n",
              "      <td>3.732887</td>\n",
              "      <td>213754.555988</td>\n",
              "      <td>56913.993819</td>\n",
              "    </tr>\n",
              "    <tr>\n",
              "      <th>3377</th>\n",
              "      <td>2021-03-30</td>\n",
              "      <td>58347.805624</td>\n",
              "      <td>58371.955310</td>\n",
              "      <td>58323.956690</td>\n",
              "      <td>58349.357087</td>\n",
              "      <td>2.363999</td>\n",
              "      <td>138231.241926</td>\n",
              "      <td>58346.912268</td>\n",
              "    </tr>\n",
              "    <tr>\n",
              "      <th>3378</th>\n",
              "      <td>2021-03-31</td>\n",
              "      <td>58767.750000</td>\n",
              "      <td>58778.180000</td>\n",
              "      <td>58755.970000</td>\n",
              "      <td>58778.180000</td>\n",
              "      <td>2.712831</td>\n",
              "      <td>159417.751000</td>\n",
              "      <td>58764.349363</td>\n",
              "    </tr>\n",
              "  </tbody>\n",
              "</table>\n",
              "<p>3379 rows × 8 columns</p>\n",
              "</div>"
            ],
            "text/plain": [
              "      timestamp          open  ...  volume_(currency)  weighted_price\n",
              "0    2011-12-31      4.465000  ...         106.330084        4.471603\n",
              "1    2012-01-01      4.806667  ...          35.259720        4.806667\n",
              "2    2012-01-02      5.000000  ...          95.240000        5.000000\n",
              "3    2012-01-03      5.252500  ...          58.100651        5.252500\n",
              "4    2012-01-04      5.200000  ...          63.119577        5.208159\n",
              "...         ...           ...  ...                ...             ...\n",
              "3374 2021-03-27  55193.240643  ...      100884.732367    55193.357260\n",
              "3375 2021-03-28  55833.608471  ...       80632.115263    55832.958824\n",
              "3376 2021-03-29  56914.886595  ...      213754.555988    56913.993819\n",
              "3377 2021-03-30  58347.805624  ...      138231.241926    58346.912268\n",
              "3378 2021-03-31  58767.750000  ...      159417.751000    58764.349363\n",
              "\n",
              "[3379 rows x 8 columns]"
            ]
          },
          "metadata": {},
          "execution_count": 10
        }
      ]
    },
    {
      "cell_type": "code",
      "metadata": {
        "colab": {
          "base_uri": "https://localhost:8080/",
          "height": 370
        },
        "id": "XCU3h0d6D-US",
        "outputId": "1c90bed0-5550-4502-98d3-6178b89e0ad2"
      },
      "source": [
        "sns.heatmap(btc.isnull(), cbar=False)"
      ],
      "execution_count": null,
      "outputs": [
        {
          "output_type": "execute_result",
          "data": {
            "text/plain": [
              "<matplotlib.axes._subplots.AxesSubplot at 0x7fb4249ba850>"
            ]
          },
          "metadata": {},
          "execution_count": 28
        },
        {
          "output_type": "display_data",
          "data": {
            "image/png": "[encoded data removed]",
            "text/plain": [
              "<Figure size 432x288 with 1 Axes>"
            ]
          },
          "metadata": {
            "needs_background": "light"
          }
        }
      ]
    },
    {
      "cell_type": "markdown",
      "metadata": {
        "id": "S9_1q9ItHAos"
      },
      "source": [
        "Viendo un gráfico nos damos cuenta que realizando el procedimiento anterior, por día no tenemos valores nulos, por lo cuál ya es una serie de tiempo útil."
      ]
    },
    {
      "cell_type": "markdown",
      "metadata": {
        "id": "1vBtP8_MHMjE"
      },
      "source": [
        "# **Base de datos películas**"
      ]
    },
    {
      "cell_type": "markdown",
      "metadata": {
        "id": "CzZN2Fr8Ppz7"
      },
      "source": [
        "**Base de datos:** Películas en Netflix, Prime Video, Hulu y Disney+\n",
        "\n",
        "URL:https://www.kaggle.com/ruchi798/movies-on-netflix-prime-video-hulu-and-disney?fbclid=IwAR1yx_cLqHlzHPuce5Y7UOJEGHoP2LcAuOwlYJw2HdliWHlo-ij5YosNeiM"
      ]
    },
    {
      "cell_type": "markdown",
      "metadata": {
        "id": "cn-6lo7lUS8K"
      },
      "source": [
        "**Introducción**\n",
        "\n",
        "a)\tEl streaming es un tipo de tecnología multimedia que envía contenidos de vídeo y audio a su dispositivo conectado a Internet. Esto le permite acceder a contenidos (TV, películas, música, pódcast) en cualquier momento que lo desee, en un PC o un móvil, sin someterse a los horarios del proveedor.\n",
        "\n",
        "**Descripción de datos**\n",
        "\n",
        "a) ¿Qué tipo de datos son?\n",
        "\n",
        "Los datos que se trabajaran son las peliculas recomendas y clasificadas por edad de quien da la recomendacion.\n",
        "\n",
        "b) Descripción de las columnas.\n",
        "\n",
        " -Titulo: Nombre en inglés del titulo de la pelicula \n",
        " \n",
        " -Grupo de edad: Entero, número único asignado para el grupo de edad al cual va dedicada la pelicula \n",
        " \n",
        " -Año en que se produjo:entero, numero que dice en que año se produjo la pelicula \n",
        " \n",
        " -IMDb rating: Flotante, valor con el cual se le califica a la película según IMDb \n",
        " \n",
        " -Rotten tomatoes: Flotante, valor con el cual se le califica a la película según Rotten Tomatoes\n",
        "\n",
        "**Justificación del uso de datos**\n",
        "\n",
        "a)En la base de datos participa IMDb y ellos son la base de datos mas grande del mundo, entonces teníamos muchas opciones para hablar de las películas, ya que la mayoría de la información la podiamos encontrar ahí. \n",
        "\n",
        "b)Tener una comparación de plataformas de streaming.\n",
        "\n",
        "**Objetivo Final**\n",
        "\n",
        "Tener un comparador de plataformas de streamig de acuerdo a la ponderación de IMDb.\n",
        "\n",
        "**Objetivo secundario**\n",
        "\n",
        "...\n",
        "\n",
        "**Preguntas de interés**\n",
        "\n",
        "a) ¿Qué influencia tendría una base de datos en la decisión de un cliente para la contratación de una plataforma de video?\n",
        "\n",
        "b) ¿Cómo les podría servir la base de datos a usuarios que están escogiendo una plataforma de video?\n",
        "\n",
        "**Limpieza de datos**"
      ]
    },
    {
      "cell_type": "markdown",
      "metadata": {
        "id": "LRdgFXm_HcIM"
      },
      "source": [
        "* Importar la base de datos"
      ]
    },
    {
      "cell_type": "code",
      "metadata": {
        "colab": {
          "base_uri": "https://localhost:8080/",
          "height": 394
        },
        "id": "IpoNxzjccrVB",
        "outputId": "62568141-7275-4fd8-ec95-cef4b285bd73"
      },
      "source": [
        "mvs = pd.read_csv(\"movies_streaming.csv\")\n",
        "mvs.head()"
      ],
      "execution_count": null,
      "outputs": [
        {
          "output_type": "execute_result",
          "data": {
            "text/html": [
              "<div>\n",
              "<style scoped>\n",
              "    .dataframe tbody tr th:only-of-type {\n",
              "        vertical-align: middle;\n",
              "    }\n",
              "\n",
              "    .dataframe tbody tr th {\n",
              "        vertical-align: top;\n",
              "    }\n",
              "\n",
              "    .dataframe thead th {\n",
              "        text-align: right;\n",
              "    }\n",
              "</style>\n",
              "<table border=\"1\" class=\"dataframe\">\n",
              "  <thead>\n",
              "    <tr style=\"text-align: right;\">\n",
              "      <th></th>\n",
              "      <th>Unnamed: 0</th>\n",
              "      <th>ID</th>\n",
              "      <th>Title</th>\n",
              "      <th>Year</th>\n",
              "      <th>Age</th>\n",
              "      <th>IMDb</th>\n",
              "      <th>Rotten Tomatoes</th>\n",
              "      <th>Netflix</th>\n",
              "      <th>Hulu</th>\n",
              "      <th>Prime Video</th>\n",
              "      <th>Disney+</th>\n",
              "      <th>Type</th>\n",
              "      <th>Directors</th>\n",
              "      <th>Genres</th>\n",
              "      <th>Country</th>\n",
              "      <th>Language</th>\n",
              "      <th>Runtime</th>\n",
              "    </tr>\n",
              "  </thead>\n",
              "  <tbody>\n",
              "    <tr>\n",
              "      <th>0</th>\n",
              "      <td>0</td>\n",
              "      <td>1</td>\n",
              "      <td>The Irishman</td>\n",
              "      <td>2019</td>\n",
              "      <td>18+</td>\n",
              "      <td>7.8/10</td>\n",
              "      <td>98/100</td>\n",
              "      <td>1</td>\n",
              "      <td>0</td>\n",
              "      <td>0</td>\n",
              "      <td>0</td>\n",
              "      <td>0</td>\n",
              "      <td>Martin Scorsese</td>\n",
              "      <td>Biography,Crime,Drama</td>\n",
              "      <td>United States</td>\n",
              "      <td>English,Italian,Latin,Spanish,German</td>\n",
              "      <td>209.0</td>\n",
              "    </tr>\n",
              "    <tr>\n",
              "      <th>1</th>\n",
              "      <td>1</td>\n",
              "      <td>2</td>\n",
              "      <td>Dangal</td>\n",
              "      <td>2016</td>\n",
              "      <td>7+</td>\n",
              "      <td>8.4/10</td>\n",
              "      <td>97/100</td>\n",
              "      <td>1</td>\n",
              "      <td>0</td>\n",
              "      <td>0</td>\n",
              "      <td>0</td>\n",
              "      <td>0</td>\n",
              "      <td>Nitesh Tiwari</td>\n",
              "      <td>Action,Biography,Drama,Sport</td>\n",
              "      <td>India,United States,United Kingdom,Australia,K...</td>\n",
              "      <td>Hindi,English</td>\n",
              "      <td>161.0</td>\n",
              "    </tr>\n",
              "    <tr>\n",
              "      <th>2</th>\n",
              "      <td>2</td>\n",
              "      <td>3</td>\n",
              "      <td>David Attenborough: A Life on Our Planet</td>\n",
              "      <td>2020</td>\n",
              "      <td>7+</td>\n",
              "      <td>9.0/10</td>\n",
              "      <td>95/100</td>\n",
              "      <td>1</td>\n",
              "      <td>0</td>\n",
              "      <td>0</td>\n",
              "      <td>0</td>\n",
              "      <td>0</td>\n",
              "      <td>Alastair Fothergill,Jonathan Hughes,Keith Scholey</td>\n",
              "      <td>Documentary,Biography</td>\n",
              "      <td>United Kingdom</td>\n",
              "      <td>English</td>\n",
              "      <td>83.0</td>\n",
              "    </tr>\n",
              "    <tr>\n",
              "      <th>3</th>\n",
              "      <td>3</td>\n",
              "      <td>4</td>\n",
              "      <td>Lagaan: Once Upon a Time in India</td>\n",
              "      <td>2001</td>\n",
              "      <td>7+</td>\n",
              "      <td>8.1/10</td>\n",
              "      <td>94/100</td>\n",
              "      <td>1</td>\n",
              "      <td>0</td>\n",
              "      <td>0</td>\n",
              "      <td>0</td>\n",
              "      <td>0</td>\n",
              "      <td>Ashutosh Gowariker</td>\n",
              "      <td>Drama,Musical,Sport</td>\n",
              "      <td>India,United Kingdom</td>\n",
              "      <td>Hindi,English</td>\n",
              "      <td>224.0</td>\n",
              "    </tr>\n",
              "    <tr>\n",
              "      <th>4</th>\n",
              "      <td>4</td>\n",
              "      <td>5</td>\n",
              "      <td>Roma</td>\n",
              "      <td>2018</td>\n",
              "      <td>18+</td>\n",
              "      <td>7.7/10</td>\n",
              "      <td>94/100</td>\n",
              "      <td>1</td>\n",
              "      <td>0</td>\n",
              "      <td>0</td>\n",
              "      <td>0</td>\n",
              "      <td>0</td>\n",
              "      <td>NaN</td>\n",
              "      <td>Action,Drama,History,Romance,War</td>\n",
              "      <td>United Kingdom,United States</td>\n",
              "      <td>English</td>\n",
              "      <td>52.0</td>\n",
              "    </tr>\n",
              "  </tbody>\n",
              "</table>\n",
              "</div>"
            ],
            "text/plain": [
              "   Unnamed: 0  ID  ...                              Language  Runtime\n",
              "0           0   1  ...  English,Italian,Latin,Spanish,German    209.0\n",
              "1           1   2  ...                         Hindi,English    161.0\n",
              "2           2   3  ...                               English     83.0\n",
              "3           3   4  ...                         Hindi,English    224.0\n",
              "4           4   5  ...                               English     52.0\n",
              "\n",
              "[5 rows x 17 columns]"
            ]
          },
          "metadata": {},
          "execution_count": 11
        }
      ]
    },
    {
      "cell_type": "markdown",
      "metadata": {
        "id": "bOagzfGIHwKM"
      },
      "source": [
        "Se usa mvs.info para identificar de manera rápida el tipo de datos que tenemos, las columnas y filas que tenemos y la memoria que usa nuestra base de datos."
      ]
    },
    {
      "cell_type": "code",
      "metadata": {
        "colab": {
          "base_uri": "https://localhost:8080/"
        },
        "id": "P4FVnlO2cw6C",
        "outputId": "9450d72f-f326-4309-e56c-fe0ee2893d24"
      },
      "source": [
        "mvs.info()"
      ],
      "execution_count": null,
      "outputs": [
        {
          "output_type": "stream",
          "name": "stdout",
          "text": [
            "<class 'pandas.core.frame.DataFrame'>\n",
            "RangeIndex: 9515 entries, 0 to 9514\n",
            "Data columns (total 17 columns):\n",
            " #   Column           Non-Null Count  Dtype  \n",
            "---  ------           --------------  -----  \n",
            " 0   unnamed:_0       9515 non-null   int64  \n",
            " 1   id               9515 non-null   int64  \n",
            " 2   title            9515 non-null   object \n",
            " 3   year             9515 non-null   int64  \n",
            " 4   age              5338 non-null   object \n",
            " 5   imdb             9309 non-null   object \n",
            " 6   rotten_tomatoes  9508 non-null   object \n",
            " 7   netflix          9515 non-null   int64  \n",
            " 8   hulu             9515 non-null   int64  \n",
            " 9   prime_video      9515 non-null   int64  \n",
            " 10  disney+          9515 non-null   int64  \n",
            " 11  type             9515 non-null   int64  \n",
            " 12  directors        9104 non-null   object \n",
            " 13  genres           9399 non-null   object \n",
            " 14  country          9261 non-null   object \n",
            " 15  language         9202 non-null   object \n",
            " 16  runtime          9196 non-null   float64\n",
            "dtypes: float64(1), int64(8), object(8)\n",
            "memory usage: 1.2+ MB\n"
          ]
        }
      ]
    },
    {
      "cell_type": "markdown",
      "metadata": {
        "id": "ZMi8w33zHigy"
      },
      "source": [
        "* Nombres de columnas"
      ]
    },
    {
      "cell_type": "markdown",
      "metadata": {
        "id": "ZxraaqohHl_Y"
      },
      "source": [
        "Se convierten a minúsculas los nombres y se agregan \"_\" en lugar de espacios para trabajar de una forma más eficiente"
      ]
    },
    {
      "cell_type": "code",
      "metadata": {
        "colab": {
          "base_uri": "https://localhost:8080/"
        },
        "id": "k3B5YuTHugXP",
        "outputId": "c0449efd-d7e2-4a71-cd0d-7b66ba3b9a90"
      },
      "source": [
        "ls = []\n",
        "for i in mvs.columns:\n",
        "  ls.append(i.lower().replace(\" \", \"_\"))\n",
        "ls\n",
        "mvs.columns = ls\n",
        "mvs.columns"
      ],
      "execution_count": null,
      "outputs": [
        {
          "output_type": "execute_result",
          "data": {
            "text/plain": [
              "Index(['unnamed:_0', 'id', 'title', 'year', 'age', 'imdb', 'rotten_tomatoes',\n",
              "       'netflix', 'hulu', 'prime_video', 'disney+', 'type', 'directors',\n",
              "       'genres', 'country', 'language', 'runtime'],\n",
              "      dtype='object')"
            ]
          },
          "metadata": {},
          "execution_count": 12
        }
      ]
    },
    {
      "cell_type": "markdown",
      "metadata": {
        "id": "VqaK5hBnH3c6"
      },
      "source": [
        "* Valores nulos"
      ]
    },
    {
      "cell_type": "code",
      "metadata": {
        "colab": {
          "base_uri": "https://localhost:8080/",
          "height": 358
        },
        "id": "-SZAKBNbh8Qj",
        "outputId": "6cb41a9e-bf57-4259-f2a1-fc54d1805f4e"
      },
      "source": [
        "sns.heatmap(mvs.isnull(), cbar=False)"
      ],
      "execution_count": null,
      "outputs": [
        {
          "output_type": "execute_result",
          "data": {
            "text/plain": [
              "<matplotlib.axes._subplots.AxesSubplot at 0x7fb407344e10>"
            ]
          },
          "metadata": {},
          "execution_count": 14
        },
        {
          "output_type": "display_data",
          "data": {
            "image/png": "[encoded data removed]",
            "text/plain": [
              "<Figure size 432x288 with 1 Axes>"
            ]
          },
          "metadata": {
            "needs_background": "light"
          }
        }
      ]
    },
    {
      "cell_type": "markdown",
      "metadata": {
        "id": "bXHvYMARH759"
      },
      "source": [
        "Viendo el gráfico anterior, nos damos cuenta que la columna age cuenta con demasiados valores nulos, remover todas estas filas de nuestra base de datos le podría quitar poder a futuros análisis, es por eso que decidimos quitar solo esta variable.\n",
        "\n",
        "Para las otras columnas, como no son demasiados valores nulos, removeremos estas filas de la base de datos."
      ]
    },
    {
      "cell_type": "code",
      "metadata": {
        "colab": {
          "base_uri": "https://localhost:8080/",
          "height": 358
        },
        "id": "TYHyr5ektztd",
        "outputId": "59294ed0-1eff-4ec2-e67b-2e41532217fc"
      },
      "source": [
        "mvs = mvs.drop('age', 1)\n",
        "mvs = mvs.dropna()\n",
        "mvs = mvs.reset_index(drop=True)\n",
        "sns.heatmap(mvs.isnull(), cbar=False)"
      ],
      "execution_count": null,
      "outputs": [
        {
          "output_type": "execute_result",
          "data": {
            "text/plain": [
              "<matplotlib.axes._subplots.AxesSubplot at 0x7fb40715bc10>"
            ]
          },
          "metadata": {},
          "execution_count": 15
        },
        {
          "output_type": "display_data",
          "data": {
            "image/png": "[encoded data removed]",
            "text/plain": [
              "<Figure size 432x288 with 1 Axes>"
            ]
          },
          "metadata": {
            "needs_background": "light"
          }
        }
      ]
    },
    {
      "cell_type": "markdown",
      "metadata": {
        "id": "rCHDyY93IRO5"
      },
      "source": [
        "Después de hacer el procedimiento anterior, ya tenemos una base de datos limpia con la cual trabajar."
      ]
    },
    {
      "cell_type": "markdown",
      "metadata": {
        "id": "I0XsFei2IdwP"
      },
      "source": [
        "* Columnas y tipos de datos"
      ]
    },
    {
      "cell_type": "markdown",
      "metadata": {
        "id": "RIg1bmXIIg9H"
      },
      "source": [
        "Las columnas de id y unnamed:_0 son repetitivas y en realidad no aportan información valiosa, es por eso que las vamos a remover."
      ]
    },
    {
      "cell_type": "code",
      "metadata": {
        "id": "9kjdj8XTyZty"
      },
      "source": [
        "mvs = mvs.drop('unnamed:_0', 1)\n",
        "mvs = mvs.drop('id', 1)"
      ],
      "execution_count": null,
      "outputs": []
    },
    {
      "cell_type": "markdown",
      "metadata": {
        "id": "Z9Hi7CrzIrN6"
      },
      "source": [
        "Analizar los tipos de datos es importante, nos damos cuenta que muchas variables que deberían ser categóricas tienen tipo object, vamos a hacer algunos ajustes."
      ]
    },
    {
      "cell_type": "code",
      "metadata": {
        "colab": {
          "base_uri": "https://localhost:8080/"
        },
        "id": "3FMBR6f11t00",
        "outputId": "f239a5aa-efb9-4bbe-9553-f2e2e6162f13"
      },
      "source": [
        "mvs.dtypes"
      ],
      "execution_count": null,
      "outputs": [
        {
          "output_type": "execute_result",
          "data": {
            "text/plain": [
              "title               object\n",
              "year                 int64\n",
              "imdb                object\n",
              "rotten_tomatoes     object\n",
              "netflix              int64\n",
              "hulu                 int64\n",
              "prime_video          int64\n",
              "disney+              int64\n",
              "type                 int64\n",
              "directors           object\n",
              "genres              object\n",
              "country             object\n",
              "language            object\n",
              "runtime            float64\n",
              "dtype: object"
            ]
          },
          "metadata": {},
          "execution_count": 17
        }
      ]
    },
    {
      "cell_type": "code",
      "metadata": {
        "id": "Y7H4_yA56L3-"
      },
      "source": [
        "mvs[\"netflix\"] = mvs[\"netflix\"].astype('category')\n",
        "mvs[\"hulu\"] = mvs[\"hulu\"].astype('category')\n",
        "mvs[\"prime_video\"] = mvs[\"prime_video\"].astype('category')\n",
        "mvs[\"disney+\"] = mvs[\"disney+\"].astype('category')"
      ],
      "execution_count": null,
      "outputs": []
    },
    {
      "cell_type": "code",
      "metadata": {
        "colab": {
          "base_uri": "https://localhost:8080/",
          "height": 357
        },
        "id": "us1S52xkzAXZ",
        "outputId": "41bd9702-6426-4249-eeda-26c4e6991a3a"
      },
      "source": [
        "mvs.head()"
      ],
      "execution_count": null,
      "outputs": [
        {
          "output_type": "execute_result",
          "data": {
            "text/html": [
              "<div>\n",
              "<style scoped>\n",
              "    .dataframe tbody tr th:only-of-type {\n",
              "        vertical-align: middle;\n",
              "    }\n",
              "\n",
              "    .dataframe tbody tr th {\n",
              "        vertical-align: top;\n",
              "    }\n",
              "\n",
              "    .dataframe thead th {\n",
              "        text-align: right;\n",
              "    }\n",
              "</style>\n",
              "<table border=\"1\" class=\"dataframe\">\n",
              "  <thead>\n",
              "    <tr style=\"text-align: right;\">\n",
              "      <th></th>\n",
              "      <th>title</th>\n",
              "      <th>year</th>\n",
              "      <th>imdb</th>\n",
              "      <th>rotten_tomatoes</th>\n",
              "      <th>netflix</th>\n",
              "      <th>hulu</th>\n",
              "      <th>prime_video</th>\n",
              "      <th>disney+</th>\n",
              "      <th>type</th>\n",
              "      <th>directors</th>\n",
              "      <th>genres</th>\n",
              "      <th>country</th>\n",
              "      <th>language</th>\n",
              "      <th>runtime</th>\n",
              "    </tr>\n",
              "  </thead>\n",
              "  <tbody>\n",
              "    <tr>\n",
              "      <th>0</th>\n",
              "      <td>The Irishman</td>\n",
              "      <td>2019</td>\n",
              "      <td>7.8/10</td>\n",
              "      <td>98/100</td>\n",
              "      <td>1</td>\n",
              "      <td>0</td>\n",
              "      <td>0</td>\n",
              "      <td>0</td>\n",
              "      <td>0</td>\n",
              "      <td>Martin Scorsese</td>\n",
              "      <td>Biography,Crime,Drama</td>\n",
              "      <td>United States</td>\n",
              "      <td>English,Italian,Latin,Spanish,German</td>\n",
              "      <td>209.0</td>\n",
              "    </tr>\n",
              "    <tr>\n",
              "      <th>1</th>\n",
              "      <td>Dangal</td>\n",
              "      <td>2016</td>\n",
              "      <td>8.4/10</td>\n",
              "      <td>97/100</td>\n",
              "      <td>1</td>\n",
              "      <td>0</td>\n",
              "      <td>0</td>\n",
              "      <td>0</td>\n",
              "      <td>0</td>\n",
              "      <td>Nitesh Tiwari</td>\n",
              "      <td>Action,Biography,Drama,Sport</td>\n",
              "      <td>India,United States,United Kingdom,Australia,K...</td>\n",
              "      <td>Hindi,English</td>\n",
              "      <td>161.0</td>\n",
              "    </tr>\n",
              "    <tr>\n",
              "      <th>2</th>\n",
              "      <td>David Attenborough: A Life on Our Planet</td>\n",
              "      <td>2020</td>\n",
              "      <td>9.0/10</td>\n",
              "      <td>95/100</td>\n",
              "      <td>1</td>\n",
              "      <td>0</td>\n",
              "      <td>0</td>\n",
              "      <td>0</td>\n",
              "      <td>0</td>\n",
              "      <td>Alastair Fothergill,Jonathan Hughes,Keith Scholey</td>\n",
              "      <td>Documentary,Biography</td>\n",
              "      <td>United Kingdom</td>\n",
              "      <td>English</td>\n",
              "      <td>83.0</td>\n",
              "    </tr>\n",
              "    <tr>\n",
              "      <th>3</th>\n",
              "      <td>Lagaan: Once Upon a Time in India</td>\n",
              "      <td>2001</td>\n",
              "      <td>8.1/10</td>\n",
              "      <td>94/100</td>\n",
              "      <td>1</td>\n",
              "      <td>0</td>\n",
              "      <td>0</td>\n",
              "      <td>0</td>\n",
              "      <td>0</td>\n",
              "      <td>Ashutosh Gowariker</td>\n",
              "      <td>Drama,Musical,Sport</td>\n",
              "      <td>India,United Kingdom</td>\n",
              "      <td>Hindi,English</td>\n",
              "      <td>224.0</td>\n",
              "    </tr>\n",
              "    <tr>\n",
              "      <th>4</th>\n",
              "      <td>To All the Boys I've Loved Before</td>\n",
              "      <td>2018</td>\n",
              "      <td>7.1/10</td>\n",
              "      <td>94/100</td>\n",
              "      <td>1</td>\n",
              "      <td>0</td>\n",
              "      <td>0</td>\n",
              "      <td>0</td>\n",
              "      <td>0</td>\n",
              "      <td>Susan Johnson</td>\n",
              "      <td>Comedy,Drama,Romance</td>\n",
              "      <td>United States</td>\n",
              "      <td>English</td>\n",
              "      <td>99.0</td>\n",
              "    </tr>\n",
              "  </tbody>\n",
              "</table>\n",
              "</div>"
            ],
            "text/plain": [
              "                                      title  ...  runtime\n",
              "0                              The Irishman  ...    209.0\n",
              "1                                    Dangal  ...    161.0\n",
              "2  David Attenborough: A Life on Our Planet  ...     83.0\n",
              "3         Lagaan: Once Upon a Time in India  ...    224.0\n",
              "4         To All the Boys I've Loved Before  ...     99.0\n",
              "\n",
              "[5 rows x 14 columns]"
            ]
          },
          "metadata": {},
          "execution_count": 18
        }
      ]
    },
    {
      "cell_type": "markdown",
      "metadata": {
        "id": "2GetgWPgI4ob"
      },
      "source": [
        "Nos damos cuenta que imbd y rotten_tomatoes que son calificaciones para películas, no tienen un estándar, vamos a limpiar y estandarizar esas variables para poderlas usar en un posterior análisis, además, nos damos cuenta que la columna type no aporta información por la cual la vamos a borrar."
      ]
    },
    {
      "cell_type": "code",
      "metadata": {
        "colab": {
          "base_uri": "https://localhost:8080/"
        },
        "id": "dr_G35-S37jq",
        "outputId": "db784ea2-a0fa-4371-f748-f8b724c6efa8"
      },
      "source": [
        "mvs.type.unique()"
      ],
      "execution_count": null,
      "outputs": [
        {
          "output_type": "execute_result",
          "data": {
            "text/plain": [
              "array([0])"
            ]
          },
          "metadata": {},
          "execution_count": 21
        }
      ]
    },
    {
      "cell_type": "code",
      "metadata": {
        "id": "eiRT2_n512UT"
      },
      "source": [
        "mvs = mvs.drop('type', 1)"
      ],
      "execution_count": null,
      "outputs": []
    },
    {
      "cell_type": "code",
      "metadata": {
        "id": "EeIxanyk7bWT"
      },
      "source": [
        "mvs['imdb'] = mvs['imdb'].apply(lambda x: int(float(x[:-3])*10))"
      ],
      "execution_count": null,
      "outputs": []
    },
    {
      "cell_type": "code",
      "metadata": {
        "id": "13eCMvJG8W8I"
      },
      "source": [
        "mvs['rotten_tomatoes'] = mvs['rotten_tomatoes'].apply(lambda x: int(x[:-4]))"
      ],
      "execution_count": null,
      "outputs": []
    },
    {
      "cell_type": "code",
      "metadata": {
        "colab": {
          "base_uri": "https://localhost:8080/",
          "height": 340
        },
        "id": "ugssmP7W8jjd",
        "outputId": "e7d78fa2-6776-4b24-c301-4a3c51399eff"
      },
      "source": [
        "mvs.head()"
      ],
      "execution_count": null,
      "outputs": [
        {
          "output_type": "execute_result",
          "data": {
            "text/html": [
              "<div>\n",
              "<style scoped>\n",
              "    .dataframe tbody tr th:only-of-type {\n",
              "        vertical-align: middle;\n",
              "    }\n",
              "\n",
              "    .dataframe tbody tr th {\n",
              "        vertical-align: top;\n",
              "    }\n",
              "\n",
              "    .dataframe thead th {\n",
              "        text-align: right;\n",
              "    }\n",
              "</style>\n",
              "<table border=\"1\" class=\"dataframe\">\n",
              "  <thead>\n",
              "    <tr style=\"text-align: right;\">\n",
              "      <th></th>\n",
              "      <th>title</th>\n",
              "      <th>year</th>\n",
              "      <th>imdb</th>\n",
              "      <th>rotten_tomatoes</th>\n",
              "      <th>netflix</th>\n",
              "      <th>hulu</th>\n",
              "      <th>prime_video</th>\n",
              "      <th>disney+</th>\n",
              "      <th>directors</th>\n",
              "      <th>genres</th>\n",
              "      <th>country</th>\n",
              "      <th>language</th>\n",
              "      <th>runtime</th>\n",
              "    </tr>\n",
              "  </thead>\n",
              "  <tbody>\n",
              "    <tr>\n",
              "      <th>0</th>\n",
              "      <td>The Irishman</td>\n",
              "      <td>2019</td>\n",
              "      <td>78</td>\n",
              "      <td>98</td>\n",
              "      <td>1</td>\n",
              "      <td>0</td>\n",
              "      <td>0</td>\n",
              "      <td>0</td>\n",
              "      <td>Martin Scorsese</td>\n",
              "      <td>Biography,Crime,Drama</td>\n",
              "      <td>United States</td>\n",
              "      <td>English,Italian,Latin,Spanish,German</td>\n",
              "      <td>209.0</td>\n",
              "    </tr>\n",
              "    <tr>\n",
              "      <th>1</th>\n",
              "      <td>Dangal</td>\n",
              "      <td>2016</td>\n",
              "      <td>84</td>\n",
              "      <td>97</td>\n",
              "      <td>1</td>\n",
              "      <td>0</td>\n",
              "      <td>0</td>\n",
              "      <td>0</td>\n",
              "      <td>Nitesh Tiwari</td>\n",
              "      <td>Action,Biography,Drama,Sport</td>\n",
              "      <td>India,United States,United Kingdom,Australia,K...</td>\n",
              "      <td>Hindi,English</td>\n",
              "      <td>161.0</td>\n",
              "    </tr>\n",
              "    <tr>\n",
              "      <th>2</th>\n",
              "      <td>David Attenborough: A Life on Our Planet</td>\n",
              "      <td>2020</td>\n",
              "      <td>90</td>\n",
              "      <td>95</td>\n",
              "      <td>1</td>\n",
              "      <td>0</td>\n",
              "      <td>0</td>\n",
              "      <td>0</td>\n",
              "      <td>Alastair Fothergill,Jonathan Hughes,Keith Scholey</td>\n",
              "      <td>Documentary,Biography</td>\n",
              "      <td>United Kingdom</td>\n",
              "      <td>English</td>\n",
              "      <td>83.0</td>\n",
              "    </tr>\n",
              "    <tr>\n",
              "      <th>3</th>\n",
              "      <td>Lagaan: Once Upon a Time in India</td>\n",
              "      <td>2001</td>\n",
              "      <td>81</td>\n",
              "      <td>94</td>\n",
              "      <td>1</td>\n",
              "      <td>0</td>\n",
              "      <td>0</td>\n",
              "      <td>0</td>\n",
              "      <td>Ashutosh Gowariker</td>\n",
              "      <td>Drama,Musical,Sport</td>\n",
              "      <td>India,United Kingdom</td>\n",
              "      <td>Hindi,English</td>\n",
              "      <td>224.0</td>\n",
              "    </tr>\n",
              "    <tr>\n",
              "      <th>4</th>\n",
              "      <td>To All the Boys I've Loved Before</td>\n",
              "      <td>2018</td>\n",
              "      <td>71</td>\n",
              "      <td>94</td>\n",
              "      <td>1</td>\n",
              "      <td>0</td>\n",
              "      <td>0</td>\n",
              "      <td>0</td>\n",
              "      <td>Susan Johnson</td>\n",
              "      <td>Comedy,Drama,Romance</td>\n",
              "      <td>United States</td>\n",
              "      <td>English</td>\n",
              "      <td>99.0</td>\n",
              "    </tr>\n",
              "  </tbody>\n",
              "</table>\n",
              "</div>"
            ],
            "text/plain": [
              "                                      title  ...  runtime\n",
              "0                              The Irishman  ...    209.0\n",
              "1                                    Dangal  ...    161.0\n",
              "2  David Attenborough: A Life on Our Planet  ...     83.0\n",
              "3         Lagaan: Once Upon a Time in India  ...    224.0\n",
              "4         To All the Boys I've Loved Before  ...     99.0\n",
              "\n",
              "[5 rows x 13 columns]"
            ]
          },
          "metadata": {},
          "execution_count": 25
        }
      ]
    },
    {
      "cell_type": "code",
      "metadata": {
        "colab": {
          "base_uri": "https://localhost:8080/"
        },
        "id": "SVkZTITD9F2d",
        "outputId": "196adc32-1bf5-45a5-8a3e-4d4a46a72d77"
      },
      "source": [
        "mvs.dtypes"
      ],
      "execution_count": null,
      "outputs": [
        {
          "output_type": "execute_result",
          "data": {
            "text/plain": [
              "title                object\n",
              "year                  int64\n",
              "imdb                  int64\n",
              "rotten_tomatoes       int64\n",
              "netflix            category\n",
              "hulu               category\n",
              "prime_video        category\n",
              "disney+            category\n",
              "directors            object\n",
              "genres               object\n",
              "country              object\n",
              "language             object\n",
              "runtime             float64\n",
              "dtype: object"
            ]
          },
          "metadata": {},
          "execution_count": 26
        }
      ]
    },
    {
      "cell_type": "markdown",
      "metadata": {
        "id": "q8PRdDLdJn5q"
      },
      "source": [
        "Terminamos el proceso de limpieza de datos, con los procedimientos realizados, debería ser menos complejo realizar futuros análisis."
      ]
    }
  ]
}